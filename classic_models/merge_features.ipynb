{
 "cells": [
  {
   "cell_type": "code",
   "execution_count": 117,
   "metadata": {
    "execution": {
     "iopub.execute_input": "2024-12-03T17:32:53.386135Z",
     "iopub.status.busy": "2024-12-03T17:32:53.385551Z",
     "iopub.status.idle": "2024-12-03T17:32:53.398895Z",
     "shell.execute_reply": "2024-12-03T17:32:53.396965Z",
     "shell.execute_reply.started": "2024-12-03T17:32:53.386075Z"
    }
   },
   "outputs": [],
   "source": [
    "import sys\n",
    "import os\n",
    "import warnings\n",
    "\n",
    "for p in [\n",
    "    \"/usr/lib/spark/python/lib/py4j-current-src.zip\",\n",
    "    \"/usr/lib/spark/python\",\n",
    "]:\n",
    "    while p in sys.path:\n",
    "        sys.path.remove(p)\n",
    "\n",
    "import pandas as pd\n",
    "import numpy as np\n",
    "import matplotlib.pyplot as plt\n",
    "from tqdm import tqdm\n",
    "\n",
    "\n",
    "np.random.seed(42)\n",
    "warnings.simplefilter(action='ignore', category=FutureWarning)\n",
    "warnings.simplefilter(action='ignore', category=pd.errors.PerformanceWarning)"
   ]
  },
  {
   "cell_type": "code",
   "execution_count": 118,
   "metadata": {
    "execution": {
     "iopub.execute_input": "2024-12-03T17:32:53.637681Z",
     "iopub.status.busy": "2024-12-03T17:32:53.637162Z",
     "iopub.status.idle": "2024-12-03T17:32:53.666256Z",
     "shell.execute_reply": "2024-12-03T17:32:53.664763Z",
     "shell.execute_reply.started": "2024-12-03T17:32:53.637632Z"
    }
   },
   "outputs": [],
   "source": [
    "base_cols = [\n",
    "    \"dt\",\n",
    "    \"lon_cell\",\n",
    "    \"lat_cell\",\n",
    "    \"cell_x\",\n",
    "    \"cell_y\",\n",
    "    \"horizon_min_dt\",\n",
    "    \"horizon_max_dt\",\n",
    "]\n",
    "target_col = \"target\"\n",
    "feature_dir = \"data/features\"\n",
    "\n",
    "def add_time_cols(df: pd.DataFrame) -> pd.DataFrame:\n",
    "    df[\"dt_year\"] = df[\"dt\"].apply(lambda x: int(x.split(\"-\")[0]))\n",
    "    df[\"dt_month\"] = df[\"dt\"].apply(lambda x: int(x.split(\"-\")[1]))\n",
    "    df[\"dt_day\"] = df[\"dt\"].apply(lambda x: int(x.split(\"-\")[2]))\n",
    "\n",
    "    df[\"day_of_year\"] = df[[\"dt_year\", \"dt_month\", \"dt_day\"]].apply(\n",
    "        lambda x: pd.Timestamp(x[0], x[1], x[2]).dayofyear, axis=1\n",
    "    )\n",
    "    df[\"day_of_year_sin\"] = df[[\"dt_year\", \"dt_month\", \"dt_day\"]].apply(\n",
    "        lambda x: np.sin(\n",
    "            2.0 * np.pi * pd.Timestamp(x[0], x[1], x[2]).dayofyear / float(pd.Timestamp(x[0], 12, 31).dayofyear)\n",
    "        ),\n",
    "        axis=1,\n",
    "    )\n",
    "    df[\"day_of_year_cos\"] = df[[\"dt_year\", \"dt_month\", \"dt_day\"]].apply(\n",
    "        lambda x: np.cos(\n",
    "            2.0 * np.pi * pd.Timestamp(x[0], x[1], x[2]).dayofyear / float(pd.Timestamp(x[0], 12, 31).dayofyear)\n",
    "        ),\n",
    "        axis=1,\n",
    "    )\n",
    "\n",
    "    df[\"day_of_month_sin\"] = df[[\"dt_year\", \"dt_month\", \"dt_day\"]].apply(\n",
    "        lambda x: np.sin(2.0 * np.pi * float(x[1]) / float(pd.Timestamp(x[0], x[1], x[2]).days_in_month)), axis=1\n",
    "    )\n",
    "    df[\"day_of_month_cos\"] = df[[\"dt_year\", \"dt_month\", \"dt_day\"]].apply(\n",
    "        lambda x: np.sin(2.0 * np.pi * float(x[1]) / float(pd.Timestamp(x[0], x[1], x[2]).days_in_month)), axis=1\n",
    "    )\n",
    "\n",
    "    return df\n",
    "    \n",
    "def join_feature_files(feature_set_paths: list[str], feature_dir: str) -> pd.DataFrame:\n",
    "    features_df = None\n",
    "    for f_name in tqdm(feature_set_paths):\n",
    "        f_path = os.path.join(feature_dir, f_name)\n",
    "        df = pd.read_csv(f_path, sep=\";\")\n",
    "        col_names = df.columns.tolist()\n",
    "        rename_cols_dict = {x:f\"{x}_rad0\" for x in col_names if (\"count\" in x or \"magn\" in x) and \"rad\" not in x}\n",
    "        df = df.rename(columns=rename_cols_dict)\n",
    "        if features_df is None:\n",
    "            features_df = df.copy()\n",
    "        else:\n",
    "            existing_cols = set(features_df.columns)\n",
    "            new_cols = list(set(df.columns) - existing_cols)\n",
    "            select_cols = list(set(base_cols + new_cols + [target_col]))\n",
    "            df = df[select_cols]\n",
    "            features_df = features_df.merge(df, on=base_cols + [target_col], how=\"inner\")\n",
    "\n",
    "    return features_df\n",
    "\n",
    "def get_features_dict(cols: list[str]) -> dict[int, list[int]]:\n",
    "    return {\n",
    "        r:np.sort(list(set([\n",
    "            int(x.split(\"earthquakes_\")[-1].split(\"_\")[0])//365 \n",
    "            for x in cols if \"earthquakes\" in x and f\"rad{r}\" in x\n",
    "        ]))).tolist()\n",
    "        for r in [0, 3, 5]\n",
    "    }\n",
    "\n",
    "def get_border_values(df: pd.DataFrame, col: str = \"dt\"):\n",
    "    return np.sort(df[col].tolist())[0], np.sort(df[col].tolist())[-1]\n",
    "\n",
    "def border_values_for_list(feature_set_paths: list[str]) -> None:\n",
    "    for p in feature_set_paths:\n",
    "        df = pd.read_csv(f\"{feature_dir}/{p}\", sep=\";\")\n",
    "        print(get_border_values(df), p)\n",
    "        \n",
    "def print_some_stats(df: pd.DataFrame) -> None:\n",
    "    print(\"len(df):                \", len(df))\n",
    "    print(\"'dt' border values:     \", get_border_values(df))\n",
    "    print(\"len(columns):           \", len(df.columns.tolist()))\n",
    "    print(\"count target==1:        \", df[\"target\"].sum())\n",
    "    print(\"last dt, when target==1:\", np.sort(df[df[\"target\"]==1][\"dt\"].unique())[-1])\n",
    "    print(\"\\nfeatures_dict:\")\n",
    "    display(get_features_dict(df.columns))"
   ]
  },
  {
   "cell_type": "code",
   "execution_count": 119,
   "metadata": {
    "execution": {
     "iopub.execute_input": "2024-12-03T17:32:54.693132Z",
     "iopub.status.busy": "2024-12-03T17:32:54.692599Z",
     "iopub.status.idle": "2024-12-03T17:32:55.531530Z",
     "shell.execute_reply": "2024-12-03T17:32:55.529412Z",
     "shell.execute_reply.started": "2024-12-03T17:32:54.693084Z"
    },
    "scrolled": true
   },
   "outputs": [
    {
     "name": "stdout",
     "output_type": "stream",
     "text": [
      "magn_3_5_aft_test_rad0_depth60_90_180_365_1095_1825_2555_3650.csv\n",
      "magn_3_5_aft_test_rad3_depth60_90_180_365_1095_1825_2555_3650.csv\n",
      "magn_3_5_aft_test_rad5_depth60_90_180_365_1095_1825_2555_3650.csv\n",
      "magn_3_5_aft_train_rad0_depth60_90_180_365_1095_1825_2555_3650.csv\n",
      "magn_3_5_aft_train_rad3_depth60_90_180_365_1095_1825_2555_3650.csv\n",
      "magn_3_5_aft_train_rad5_depth60_90_180_365_1095_1825_2555_3650.csv\n",
      "magn_3_5_withoutaft_test_rad0_depth60_90_180_365_1095_1825_2555_3650.csv\n",
      "magn_3_5_withoutaft_test_rad3_depth60_90_180_365_1095_1825_2555_3650.csv\n",
      "magn_3_5_withoutaft_test_rad5_depth60_90_180_365_1095_1825_2555_3650.csv\n",
      "magn_3_5_withoutaft_train_rad0_depth60_90_180_365_1095_1825_2555_3650.csv\n",
      "magn_3_5_withoutaft_train_rad3_depth60_90_180_365_1095_1825_2555_3650.csv\n",
      "magn_3_5_withoutaft_train_rad5_depth60_90_180_365_1095_1825_2555_3650.csv\n",
      "magn_6_aft_features_3_5_rad0_depth60_90_180_365_1095_1825_2555_3650_trs6.0.csv\n",
      "magn_6_aft_features_3_5_rad3_depth60_90_180_365_1095_1825_2555_3650_trs6.0.csv\n",
      "magn_6_aft_features_3_5_rad5_depth60_90_180_365_1095_1825_2555_3650_trs6.0.csv\n",
      "magn_6_aft_rad0_depth60_90_180_365_1095_1825_2555_3650.csv\n",
      "magn_6_aft_rad0_depth60_90_180_365_1095_1825_2555_3650_trs6.0.csv\n",
      "magn_6_aft_rad3_depth60_90_180_365_1095_1825_2555_3650.csv\n",
      "magn_6_aft_rad3_depth60_90_180_365_1095_1825_2555_3650_trs6.0.csv\n",
      "magn_6_aft_rad5_depth60_90_180_365_1095_1825_2555_3650.csv\n",
      "magn_6_aft_rad5_depth60_90_180_365_1095_1825_2555_3650_trs6.0.csv\n",
      "magn_6_aft_test_features_3_5_rad0_3_5_depth60_90_180_365_1095_1825_2555_3650_trs6.0.csv\n",
      "magn_6_aft_test_rad0_3_5_depth60_90_180_365_1095_1825_2555_3650_trs6.0.csv\n",
      "magn_6_withoutaft_features_3_5_rad0_depth60_90_180_365_1095_1825_2555_3650_trs6.0.csv\n",
      "magn_6_withoutaft_features_3_5_rad3_depth60_90_180_365_1095_1825_2555_3650_trs6.0.csv\n",
      "magn_6_withoutaft_features_3_5_rad5_depth60_90_180_365_1095_1825_2555_3650_trs6.0.csv\n",
      "magn_6_withoutaft_rad0_3_5_depth60_90_180_365_1095_1825_2555_3650.csv\n",
      "magn_6_withoutaft_rad0_depth60_90_180_365_1095_1825_2555_3650_trs6.0.csv\n",
      "magn_6_withoutaft_rad3_depth60_90_180_365_1095_1825_2555_3650_trs6.0.csv\n",
      "magn_6_withoutaft_rad5_depth60_90_180_365_1095_1825_2555_3650_trs6.0.csv\n",
      "magn_6_withoutaft_test_features_3_5_rad0_3_5_depth60_90_180_365_1095_1825_2555_3650_trs6.0.csv\n",
      "magn_6_withoutaft_test_rad0_3_5_depth60_90_180_365_1095_1825_2555_3650_trs6.0.csv\n"
     ]
    }
   ],
   "source": [
    "! ls data/features"
   ]
  },
  {
   "cell_type": "markdown",
   "metadata": {
    "jp-MarkdownHeadingCollapsed": true
   },
   "source": [
    "## orig magn>3.5"
   ]
  },
  {
   "cell_type": "markdown",
   "metadata": {},
   "source": [
    "### train"
   ]
  },
  {
   "cell_type": "code",
   "execution_count": 79,
   "metadata": {
    "execution": {
     "iopub.execute_input": "2024-11-26T12:09:03.261188Z",
     "iopub.status.busy": "2024-11-26T12:09:03.260220Z",
     "iopub.status.idle": "2024-11-26T12:09:03.268415Z",
     "shell.execute_reply": "2024-11-26T12:09:03.267379Z",
     "shell.execute_reply.started": "2024-11-26T12:09:03.261133Z"
    }
   },
   "outputs": [],
   "source": [
    "dataset_type = \"magn_3_5_aft_train\"\n",
    "out_file = f\"data/dataset/{dataset_type}.parquet\"\n",
    "feature_set_paths = [x for x in os.listdir(feature_dir) if dataset_type in x]"
   ]
  },
  {
   "cell_type": "code",
   "execution_count": 48,
   "metadata": {
    "execution": {
     "iopub.execute_input": "2024-11-24T09:54:30.116166Z",
     "iopub.status.busy": "2024-11-24T09:54:30.115093Z",
     "iopub.status.idle": "2024-11-24T09:54:59.978940Z",
     "shell.execute_reply": "2024-11-24T09:54:59.978146Z",
     "shell.execute_reply.started": "2024-11-24T09:54:30.116115Z"
    }
   },
   "outputs": [
    {
     "name": "stdout",
     "output_type": "stream",
     "text": [
      "('2009-03-17', '2020-08-26') magn_3_5_aft_train_rad0_depth60_90_180_365_1095_1825_2555_3650.csv\n",
      "('2009-03-17', '2020-08-26') magn_3_5_aft_train_rad3_depth60_90_180_365_1095_1825_2555_3650.csv\n",
      "('2009-03-17', '2020-08-26') magn_3_5_aft_train_rad5_depth60_90_180_365_1095_1825_2555_3650.csv\n"
     ]
    }
   ],
   "source": [
    "border_values_for_list(feature_set_paths)"
   ]
  },
  {
   "cell_type": "code",
   "execution_count": 49,
   "metadata": {
    "execution": {
     "iopub.execute_input": "2024-11-24T09:55:12.132602Z",
     "iopub.status.busy": "2024-11-24T09:55:12.131965Z",
     "iopub.status.idle": "2024-11-24T09:55:43.252499Z",
     "shell.execute_reply": "2024-11-24T09:55:43.251671Z",
     "shell.execute_reply.started": "2024-11-24T09:55:12.132571Z"
    }
   },
   "outputs": [
    {
     "name": "stderr",
     "output_type": "stream",
     "text": [
      "100%|██████████| 3/3 [00:31<00:00, 10.36s/it]\n"
     ]
    }
   ],
   "source": [
    "df_magn_3_5_aft_train = join_feature_files(feature_set_paths, feature_dir)"
   ]
  },
  {
   "cell_type": "code",
   "execution_count": 50,
   "metadata": {
    "execution": {
     "iopub.execute_input": "2024-11-24T09:55:43.254039Z",
     "iopub.status.busy": "2024-11-24T09:55:43.253714Z",
     "iopub.status.idle": "2024-11-24T10:01:12.307340Z",
     "shell.execute_reply": "2024-11-24T10:01:12.306117Z",
     "shell.execute_reply.started": "2024-11-24T09:55:43.254024Z"
    }
   },
   "outputs": [],
   "source": [
    "df_magn_3_5_aft_train = add_time_cols(df_magn_3_5_aft_train)"
   ]
  },
  {
   "cell_type": "code",
   "execution_count": 51,
   "metadata": {
    "execution": {
     "iopub.execute_input": "2024-11-24T10:01:12.308361Z",
     "iopub.status.busy": "2024-11-24T10:01:12.308214Z",
     "iopub.status.idle": "2024-11-24T10:01:13.924792Z",
     "shell.execute_reply": "2024-11-24T10:01:13.924128Z",
     "shell.execute_reply.started": "2024-11-24T10:01:12.308347Z"
    }
   },
   "outputs": [
    {
     "name": "stdout",
     "output_type": "stream",
     "text": [
      "len(df):                 2878949\n",
      "'dt' border values:      ('2009-03-17', '2020-08-26')\n",
      "len(columns):            136\n",
      "count target==1:         66242\n",
      "last dt, when target==1: 2020-08-26\n",
      "\n",
      "features_dict:\n"
     ]
    },
    {
     "data": {
      "text/plain": [
       "{0: [0, 1, 3, 5, 7, 10], 3: [0, 1, 3, 5, 7, 10], 5: [0, 1, 3, 5, 7, 10]}"
      ]
     },
     "metadata": {},
     "output_type": "display_data"
    }
   ],
   "source": [
    "print_some_stats(df_magn_3_5_aft_train)"
   ]
  },
  {
   "cell_type": "code",
   "execution_count": 52,
   "metadata": {
    "execution": {
     "iopub.execute_input": "2024-11-24T10:01:13.925920Z",
     "iopub.status.busy": "2024-11-24T10:01:13.925782Z",
     "iopub.status.idle": "2024-11-24T10:01:22.824460Z",
     "shell.execute_reply": "2024-11-24T10:01:22.822072Z",
     "shell.execute_reply.started": "2024-11-24T10:01:13.925902Z"
    }
   },
   "outputs": [],
   "source": [
    "df_magn_3_5_aft_train.to_parquet(out_file, index=False)"
   ]
  },
  {
   "cell_type": "code",
   "execution_count": null,
   "metadata": {},
   "outputs": [],
   "source": []
  },
  {
   "cell_type": "code",
   "execution_count": 80,
   "metadata": {
    "execution": {
     "iopub.execute_input": "2024-11-26T12:09:22.331468Z",
     "iopub.status.busy": "2024-11-26T12:09:22.330922Z",
     "iopub.status.idle": "2024-11-26T12:09:23.046063Z",
     "shell.execute_reply": "2024-11-26T12:09:23.044606Z",
     "shell.execute_reply.started": "2024-11-26T12:09:22.331420Z"
    }
   },
   "outputs": [],
   "source": [
    "df_magn_3_5_aft_train = pd.read_parquet(out_file)"
   ]
  },
  {
   "cell_type": "code",
   "execution_count": 86,
   "metadata": {
    "execution": {
     "iopub.execute_input": "2024-11-26T12:10:23.189388Z",
     "iopub.status.busy": "2024-11-26T12:10:23.188783Z",
     "iopub.status.idle": "2024-11-26T12:10:24.516457Z",
     "shell.execute_reply": "2024-11-26T12:10:24.515339Z",
     "shell.execute_reply.started": "2024-11-26T12:10:23.189337Z"
    }
   },
   "outputs": [
    {
     "data": {
      "image/png": "[encoded data removed]",
      "text/plain": [
       "<Figure size 640x480 with 1 Axes>"
      ]
     },
     "metadata": {},
     "output_type": "display_data"
    }
   ],
   "source": [
    "df_magn_3_5_aft_train[df_magn_3_5_aft_train[\"count_earthquakes_3650_rad5\"] > 0.0][\"count_earthquakes_3650_rad5\"].hist();"
   ]
  },
  {
   "cell_type": "markdown",
   "metadata": {},
   "source": [
    "### test"
   ]
  },
  {
   "cell_type": "code",
   "execution_count": 87,
   "metadata": {
    "execution": {
     "iopub.execute_input": "2024-11-26T12:10:37.425663Z",
     "iopub.status.busy": "2024-11-26T12:10:37.425096Z",
     "iopub.status.idle": "2024-11-26T12:10:37.434295Z",
     "shell.execute_reply": "2024-11-26T12:10:37.432959Z",
     "shell.execute_reply.started": "2024-11-26T12:10:37.425615Z"
    }
   },
   "outputs": [],
   "source": [
    "dataset_type = \"magn_3_5_aft_test\"\n",
    "out_file = f\"data/dataset/{dataset_type}.parquet\"\n",
    "feature_set_paths = [x for x in os.listdir(feature_dir) if dataset_type in x]"
   ]
  },
  {
   "cell_type": "code",
   "execution_count": 54,
   "metadata": {
    "execution": {
     "iopub.execute_input": "2024-11-25T07:20:47.620468Z",
     "iopub.status.busy": "2024-11-25T07:20:47.619947Z",
     "iopub.status.idle": "2024-11-25T07:21:50.543084Z",
     "shell.execute_reply": "2024-11-25T07:21:50.542246Z",
     "shell.execute_reply.started": "2024-11-25T07:20:47.620422Z"
    }
   },
   "outputs": [
    {
     "name": "stdout",
     "output_type": "stream",
     "text": [
      "('2020-10-14', '2023-05-21') magn_3_5_aft_test_rad5_depth60_90_180_365_1095_1825_2555_3650.csv\n",
      "('2020-10-14', '2023-05-21') magn_3_5_aft_test_rad3_depth60_90_180_365_1095_1825_2555_3650.csv\n",
      "('2020-10-14', '2023-05-21') magn_3_5_aft_test_rad0_depth60_90_180_365_1095_1825_2555_3650.csv\n"
     ]
    }
   ],
   "source": [
    "border_values_for_list(feature_set_paths)"
   ]
  },
  {
   "cell_type": "code",
   "execution_count": 55,
   "metadata": {
    "execution": {
     "iopub.execute_input": "2024-11-25T07:21:50.544739Z",
     "iopub.status.busy": "2024-11-25T07:21:50.544584Z",
     "iopub.status.idle": "2024-11-25T07:23:05.045021Z",
     "shell.execute_reply": "2024-11-25T07:23:05.044180Z",
     "shell.execute_reply.started": "2024-11-25T07:21:50.544727Z"
    }
   },
   "outputs": [
    {
     "name": "stderr",
     "output_type": "stream",
     "text": [
      "100%|██████████| 3/3 [01:14<00:00, 24.81s/it]\n"
     ]
    }
   ],
   "source": [
    "df_magn_3_5_aft_test = join_feature_files(feature_set_paths, feature_dir)"
   ]
  },
  {
   "cell_type": "code",
   "execution_count": 56,
   "metadata": {
    "execution": {
     "iopub.execute_input": "2024-11-25T07:23:05.045856Z",
     "iopub.status.busy": "2024-11-25T07:23:05.045706Z",
     "iopub.status.idle": "2024-11-25T07:35:15.249001Z",
     "shell.execute_reply": "2024-11-25T07:35:15.248320Z",
     "shell.execute_reply.started": "2024-11-25T07:23:05.045843Z"
    }
   },
   "outputs": [],
   "source": [
    "df_magn_3_5_aft_test = add_time_cols(df_magn_3_5_aft_test)"
   ]
  },
  {
   "cell_type": "code",
   "execution_count": 57,
   "metadata": {
    "execution": {
     "iopub.execute_input": "2024-11-25T07:35:15.250381Z",
     "iopub.status.busy": "2024-11-25T07:35:15.250229Z",
     "iopub.status.idle": "2024-11-25T07:35:19.172849Z",
     "shell.execute_reply": "2024-11-25T07:35:19.172140Z",
     "shell.execute_reply.started": "2024-11-25T07:35:15.250368Z"
    }
   },
   "outputs": [
    {
     "name": "stdout",
     "output_type": "stream",
     "text": [
      "len(df):                 6527450\n",
      "'dt' border values:      ('2020-10-14', '2023-05-21')\n",
      "len(columns):            136\n",
      "count target==1:         98518\n",
      "last dt, when target==1: 2023-05-21\n",
      "\n",
      "features_dict:\n"
     ]
    },
    {
     "data": {
      "text/plain": [
       "{0: [0, 1, 3, 5, 7, 10], 3: [0, 1, 3, 5, 7, 10], 5: [0, 1, 3, 5, 7, 10]}"
      ]
     },
     "metadata": {},
     "output_type": "display_data"
    }
   ],
   "source": [
    "print_some_stats(df_magn_3_5_aft_test)"
   ]
  },
  {
   "cell_type": "code",
   "execution_count": 58,
   "metadata": {
    "execution": {
     "iopub.execute_input": "2024-11-25T07:35:19.173648Z",
     "iopub.status.busy": "2024-11-25T07:35:19.173508Z",
     "iopub.status.idle": "2024-11-25T07:35:33.690590Z",
     "shell.execute_reply": "2024-11-25T07:35:33.689971Z",
     "shell.execute_reply.started": "2024-11-25T07:35:19.173636Z"
    }
   },
   "outputs": [],
   "source": [
    "df_magn_3_5_aft_test.to_parquet(out_file, index=False)"
   ]
  },
  {
   "cell_type": "code",
   "execution_count": null,
   "metadata": {},
   "outputs": [],
   "source": []
  },
  {
   "cell_type": "code",
   "execution_count": 88,
   "metadata": {
    "execution": {
     "iopub.execute_input": "2024-11-26T12:10:47.383065Z",
     "iopub.status.busy": "2024-11-26T12:10:47.382535Z",
     "iopub.status.idle": "2024-11-26T12:10:48.325863Z",
     "shell.execute_reply": "2024-11-26T12:10:48.324883Z",
     "shell.execute_reply.started": "2024-11-26T12:10:47.383019Z"
    }
   },
   "outputs": [],
   "source": [
    "df_magn_3_5_aft_test = pd.read_parquet(out_file)"
   ]
  },
  {
   "cell_type": "code",
   "execution_count": 89,
   "metadata": {
    "execution": {
     "iopub.execute_input": "2024-11-26T12:11:07.351272Z",
     "iopub.status.busy": "2024-11-26T12:11:07.350692Z",
     "iopub.status.idle": "2024-11-26T12:11:10.338186Z",
     "shell.execute_reply": "2024-11-26T12:11:10.337434Z",
     "shell.execute_reply.started": "2024-11-26T12:11:07.351223Z"
    }
   },
   "outputs": [
    {
     "data": {
      "image/png": "[encoded data removed]",
      "text/plain": [
       "<Figure size 640x480 with 1 Axes>"
      ]
     },
     "metadata": {},
     "output_type": "display_data"
    }
   ],
   "source": [
    "df_magn_3_5_aft_test[df_magn_3_5_aft_test[\"count_earthquakes_3650_rad5\"] > 0.0][\"count_earthquakes_3650_rad5\"].hist();"
   ]
  },
  {
   "cell_type": "markdown",
   "metadata": {
    "jp-MarkdownHeadingCollapsed": true
   },
   "source": [
    "## withoutaft magn>3.5"
   ]
  },
  {
   "cell_type": "markdown",
   "metadata": {},
   "source": [
    "### train"
   ]
  },
  {
   "cell_type": "code",
   "execution_count": 33,
   "metadata": {
    "execution": {
     "iopub.execute_input": "2024-11-24T08:50:11.568193Z",
     "iopub.status.busy": "2024-11-24T08:50:11.567377Z",
     "iopub.status.idle": "2024-11-24T08:50:11.576243Z",
     "shell.execute_reply": "2024-11-24T08:50:11.575359Z",
     "shell.execute_reply.started": "2024-11-24T08:50:11.568142Z"
    }
   },
   "outputs": [],
   "source": [
    "dataset_type = \"magn_3_5_withoutaft_train\"\n",
    "out_file = f\"data/dataset/{dataset_type}.parquet\"\n",
    "feature_set_paths = [x for x in os.listdir(feature_dir) if dataset_type in x]"
   ]
  },
  {
   "cell_type": "code",
   "execution_count": 34,
   "metadata": {
    "execution": {
     "iopub.execute_input": "2024-11-24T08:50:12.603719Z",
     "iopub.status.busy": "2024-11-24T08:50:12.602817Z",
     "iopub.status.idle": "2024-11-24T08:50:34.630292Z",
     "shell.execute_reply": "2024-11-24T08:50:34.629462Z",
     "shell.execute_reply.started": "2024-11-24T08:50:12.603671Z"
    }
   },
   "outputs": [
    {
     "name": "stdout",
     "output_type": "stream",
     "text": [
      "('2009-03-17', '2023-05-23') magn_3_5_withoutaft_train_rad0_depth60_90_180_365_1095_1825_2555_3650.csv\n",
      "('2009-03-17', '2023-05-23') magn_3_5_withoutaft_train_rad5_depth60_90_180_365_1095_1825_2555_3650.csv\n",
      "('2009-03-17', '2023-05-23') magn_3_5_withoutaft_train_rad3_depth60_90_180_365_1095_1825_2555_3650.csv\n"
     ]
    }
   ],
   "source": [
    "border_values_for_list(feature_set_paths)"
   ]
  },
  {
   "cell_type": "code",
   "execution_count": 35,
   "metadata": {
    "execution": {
     "iopub.execute_input": "2024-11-24T08:50:34.631504Z",
     "iopub.status.busy": "2024-11-24T08:50:34.631361Z",
     "iopub.status.idle": "2024-11-24T08:50:59.349805Z",
     "shell.execute_reply": "2024-11-24T08:50:59.349021Z",
     "shell.execute_reply.started": "2024-11-24T08:50:34.631491Z"
    }
   },
   "outputs": [
    {
     "name": "stderr",
     "output_type": "stream",
     "text": [
      "100%|██████████| 3/3 [00:24<00:00,  8.23s/it]\n"
     ]
    }
   ],
   "source": [
    "df_magn_3_5_withoutaft_train = join_feature_files(feature_set_paths, feature_dir)"
   ]
  },
  {
   "cell_type": "code",
   "execution_count": 36,
   "metadata": {
    "execution": {
     "iopub.execute_input": "2024-11-24T08:50:59.350677Z",
     "iopub.status.busy": "2024-11-24T08:50:59.350534Z",
     "iopub.status.idle": "2024-11-24T08:51:00.583961Z",
     "shell.execute_reply": "2024-11-24T08:51:00.583320Z",
     "shell.execute_reply.started": "2024-11-24T08:50:59.350664Z"
    }
   },
   "outputs": [
    {
     "name": "stdout",
     "output_type": "stream",
     "text": [
      "len(df):                 2460060\n",
      "'dt' border values:      ('2009-03-17', '2023-05-23')\n",
      "len(columns):            128\n",
      "count target==1:         20130\n",
      "last dt, when target==1: 2023-05-23\n",
      "\n",
      "features_dict:\n"
     ]
    },
    {
     "data": {
      "text/plain": [
       "{0: [0, 1, 3, 5, 7, 10], 3: [0, 1, 3, 5, 7, 10], 5: [0, 1, 3, 5, 7, 10]}"
      ]
     },
     "metadata": {},
     "output_type": "display_data"
    }
   ],
   "source": [
    "print_some_stats(df_magn_3_5_withoutaft_train)"
   ]
  },
  {
   "cell_type": "code",
   "execution_count": 37,
   "metadata": {
    "execution": {
     "iopub.execute_input": "2024-11-24T08:51:00.585080Z",
     "iopub.status.busy": "2024-11-24T08:51:00.584956Z",
     "iopub.status.idle": "2024-11-24T08:57:05.728075Z",
     "shell.execute_reply": "2024-11-24T08:57:05.726271Z",
     "shell.execute_reply.started": "2024-11-24T08:51:00.585068Z"
    }
   },
   "outputs": [],
   "source": [
    "df_magn_3_5_withoutaft_train = add_time_cols(df_magn_3_5_withoutaft_train)"
   ]
  },
  {
   "cell_type": "code",
   "execution_count": 38,
   "metadata": {
    "execution": {
     "iopub.execute_input": "2024-11-24T08:57:05.729827Z",
     "iopub.status.busy": "2024-11-24T08:57:05.729638Z",
     "iopub.status.idle": "2024-11-24T08:57:07.829247Z",
     "shell.execute_reply": "2024-11-24T08:57:07.828474Z",
     "shell.execute_reply.started": "2024-11-24T08:57:05.729808Z"
    }
   },
   "outputs": [
    {
     "name": "stdout",
     "output_type": "stream",
     "text": [
      "len(df):                 2460060\n",
      "'dt' border values:      ('2009-03-17', '2023-05-23')\n",
      "len(columns):            136\n",
      "count target==1:         20130\n",
      "last dt, when target==1: 2023-05-23\n",
      "\n",
      "features_dict:\n"
     ]
    },
    {
     "data": {
      "text/plain": [
       "{0: [0, 1, 3, 5, 7, 10], 3: [0, 1, 3, 5, 7, 10], 5: [0, 1, 3, 5, 7, 10]}"
      ]
     },
     "metadata": {},
     "output_type": "display_data"
    }
   ],
   "source": [
    "print_some_stats(df_magn_3_5_withoutaft_train)"
   ]
  },
  {
   "cell_type": "code",
   "execution_count": 39,
   "metadata": {
    "execution": {
     "iopub.execute_input": "2024-11-24T08:57:07.830303Z",
     "iopub.status.busy": "2024-11-24T08:57:07.830153Z",
     "iopub.status.idle": "2024-11-24T08:57:13.593815Z",
     "shell.execute_reply": "2024-11-24T08:57:13.592515Z",
     "shell.execute_reply.started": "2024-11-24T08:57:07.830290Z"
    }
   },
   "outputs": [],
   "source": [
    "df_magn_3_5_withoutaft_train.to_parquet(out_file, index=False)"
   ]
  },
  {
   "cell_type": "markdown",
   "metadata": {},
   "source": [
    "### test"
   ]
  },
  {
   "cell_type": "code",
   "execution_count": 40,
   "metadata": {
    "execution": {
     "iopub.execute_input": "2024-11-24T09:28:12.243498Z",
     "iopub.status.busy": "2024-11-24T09:28:12.242655Z",
     "iopub.status.idle": "2024-11-24T09:28:12.253178Z",
     "shell.execute_reply": "2024-11-24T09:28:12.252024Z",
     "shell.execute_reply.started": "2024-11-24T09:28:12.243446Z"
    }
   },
   "outputs": [],
   "source": [
    "dataset_type = \"magn_3_5_withoutaft_test\"\n",
    "out_file = f\"data/dataset/{dataset_type}.parquet\"\n",
    "feature_set_paths = [x for x in os.listdir(feature_dir) if dataset_type in x]"
   ]
  },
  {
   "cell_type": "code",
   "execution_count": 41,
   "metadata": {
    "execution": {
     "iopub.execute_input": "2024-11-24T09:28:13.746509Z",
     "iopub.status.busy": "2024-11-24T09:28:13.745249Z",
     "iopub.status.idle": "2024-11-24T09:28:54.175572Z",
     "shell.execute_reply": "2024-11-24T09:28:54.174369Z",
     "shell.execute_reply.started": "2024-11-24T09:28:13.746456Z"
    }
   },
   "outputs": [
    {
     "name": "stdout",
     "output_type": "stream",
     "text": [
      "('2020-10-14', '2023-05-21') magn_3_5_withoutaft_test_rad3_depth60_90_180_365_1095_1825_2555_3650.csv\n",
      "('2020-10-14', '2023-05-21') magn_3_5_withoutaft_test_rad5_depth60_90_180_365_1095_1825_2555_3650.csv\n",
      "('2020-10-14', '2023-05-21') magn_3_5_withoutaft_test_rad0_depth60_90_180_365_1095_1825_2555_3650.csv\n"
     ]
    }
   ],
   "source": [
    "border_values_for_list(feature_set_paths)"
   ]
  },
  {
   "cell_type": "code",
   "execution_count": 42,
   "metadata": {
    "execution": {
     "iopub.execute_input": "2024-11-24T09:28:54.176842Z",
     "iopub.status.busy": "2024-11-24T09:28:54.176691Z",
     "iopub.status.idle": "2024-11-24T09:29:38.443907Z",
     "shell.execute_reply": "2024-11-24T09:29:38.442737Z",
     "shell.execute_reply.started": "2024-11-24T09:28:54.176829Z"
    }
   },
   "outputs": [
    {
     "name": "stderr",
     "output_type": "stream",
     "text": [
      "100%|██████████| 3/3 [00:44<00:00, 14.74s/it]\n"
     ]
    }
   ],
   "source": [
    "df_magn_3_5_withoutaft_test = join_feature_files(feature_set_paths, feature_dir)"
   ]
  },
  {
   "cell_type": "code",
   "execution_count": 43,
   "metadata": {
    "execution": {
     "iopub.execute_input": "2024-11-24T09:29:38.444949Z",
     "iopub.status.busy": "2024-11-24T09:29:38.444802Z",
     "iopub.status.idle": "2024-11-24T09:29:41.033999Z",
     "shell.execute_reply": "2024-11-24T09:29:41.033246Z",
     "shell.execute_reply.started": "2024-11-24T09:29:38.444936Z"
    }
   },
   "outputs": [
    {
     "name": "stdout",
     "output_type": "stream",
     "text": [
      "len(df):                 4503000\n",
      "'dt' border values:      ('2020-10-14', '2023-05-21')\n",
      "len(columns):            128\n",
      "count target==1:         41093\n",
      "last dt, when target==1: 2023-05-21\n",
      "\n",
      "features_dict:\n"
     ]
    },
    {
     "data": {
      "text/plain": [
       "{0: [0, 1, 3, 5, 7, 10], 3: [0, 1, 3, 5, 7, 10], 5: [0, 1, 3, 5, 7, 10]}"
      ]
     },
     "metadata": {},
     "output_type": "display_data"
    }
   ],
   "source": [
    "print_some_stats(df_magn_3_5_withoutaft_test)"
   ]
  },
  {
   "cell_type": "code",
   "execution_count": 44,
   "metadata": {
    "execution": {
     "iopub.execute_input": "2024-11-24T09:29:41.035314Z",
     "iopub.status.busy": "2024-11-24T09:29:41.035179Z",
     "iopub.status.idle": "2024-11-24T09:38:05.684861Z",
     "shell.execute_reply": "2024-11-24T09:38:05.683913Z",
     "shell.execute_reply.started": "2024-11-24T09:29:41.035302Z"
    }
   },
   "outputs": [],
   "source": [
    "df_magn_3_5_withoutaft_test = add_time_cols(df_magn_3_5_withoutaft_test)"
   ]
  },
  {
   "cell_type": "code",
   "execution_count": 45,
   "metadata": {
    "execution": {
     "iopub.execute_input": "2024-11-24T09:38:05.685691Z",
     "iopub.status.busy": "2024-11-24T09:38:05.685555Z",
     "iopub.status.idle": "2024-11-24T09:38:08.333356Z",
     "shell.execute_reply": "2024-11-24T09:38:08.332637Z",
     "shell.execute_reply.started": "2024-11-24T09:38:05.685678Z"
    }
   },
   "outputs": [
    {
     "name": "stdout",
     "output_type": "stream",
     "text": [
      "len(df):                 4503000\n",
      "'dt' border values:      ('2020-10-14', '2023-05-21')\n",
      "len(columns):            136\n",
      "count target==1:         41093\n",
      "last dt, when target==1: 2023-05-21\n",
      "\n",
      "features_dict:\n"
     ]
    },
    {
     "data": {
      "text/plain": [
       "{0: [0, 1, 3, 5, 7, 10], 3: [0, 1, 3, 5, 7, 10], 5: [0, 1, 3, 5, 7, 10]}"
      ]
     },
     "metadata": {},
     "output_type": "display_data"
    }
   ],
   "source": [
    "print_some_stats(df_magn_3_5_withoutaft_test)"
   ]
  },
  {
   "cell_type": "code",
   "execution_count": 46,
   "metadata": {
    "execution": {
     "iopub.execute_input": "2024-11-24T09:38:08.334310Z",
     "iopub.status.busy": "2024-11-24T09:38:08.334172Z",
     "iopub.status.idle": "2024-11-24T09:38:17.975189Z",
     "shell.execute_reply": "2024-11-24T09:38:17.974351Z",
     "shell.execute_reply.started": "2024-11-24T09:38:08.334298Z"
    }
   },
   "outputs": [],
   "source": [
    "df_magn_3_5_withoutaft_test.to_parquet(out_file, index=False)"
   ]
  },
  {
   "cell_type": "markdown",
   "metadata": {},
   "source": [
    "## orig magn>6.0"
   ]
  },
  {
   "cell_type": "markdown",
   "metadata": {},
   "source": [
    "### features based on magn>6.0"
   ]
  },
  {
   "cell_type": "code",
   "execution_count": 7,
   "metadata": {
    "execution": {
     "iopub.execute_input": "2024-11-24T08:20:42.109184Z",
     "iopub.status.busy": "2024-11-24T08:20:42.108604Z",
     "iopub.status.idle": "2024-11-24T08:20:42.115921Z",
     "shell.execute_reply": "2024-11-24T08:20:42.114849Z",
     "shell.execute_reply.started": "2024-11-24T08:20:42.109136Z"
    }
   },
   "outputs": [],
   "source": [
    "dataset_type = \"magn_6_aft\"\n",
    "out_file = f\"data/dataset/{dataset_type}.parquet\"\n",
    "feature_set_paths = [x for x in os.listdir(feature_dir) if dataset_type in x]"
   ]
  },
  {
   "cell_type": "code",
   "execution_count": 8,
   "metadata": {
    "execution": {
     "iopub.execute_input": "2024-11-24T08:20:44.899447Z",
     "iopub.status.busy": "2024-11-24T08:20:44.898885Z",
     "iopub.status.idle": "2024-11-24T08:20:44.907044Z",
     "shell.execute_reply": "2024-11-24T08:20:44.906028Z",
     "shell.execute_reply.started": "2024-11-24T08:20:44.899400Z"
    }
   },
   "outputs": [
    {
     "data": {
      "text/plain": [
       "['magn_6_aft_rad3_depth60_90_180_365_1095_1825_2555_3650.csv',\n",
       " 'magn_6_aft_rad0_depth60_90_180_365_1095_1825_2555_3650.csv',\n",
       " 'magn_6_aft_rad5_depth60_90_180_365_1095_1825_2555_3650.csv']"
      ]
     },
     "execution_count": 8,
     "metadata": {},
     "output_type": "execute_result"
    }
   ],
   "source": [
    "feature_set_paths"
   ]
  },
  {
   "cell_type": "code",
   "execution_count": 9,
   "metadata": {
    "execution": {
     "iopub.execute_input": "2024-11-24T08:21:29.432280Z",
     "iopub.status.busy": "2024-11-24T08:21:29.431172Z",
     "iopub.status.idle": "2024-11-24T08:22:16.044635Z",
     "shell.execute_reply": "2024-11-24T08:22:16.043746Z",
     "shell.execute_reply.started": "2024-11-24T08:21:29.432231Z"
    }
   },
   "outputs": [
    {
     "name": "stdout",
     "output_type": "stream",
     "text": [
      "('2009-05-31', '2023-05-10') magn_6_aft_rad3_depth60_90_180_365_1095_1825_2555_3650.csv\n",
      "('2009-05-31', '2023-05-10') magn_6_aft_rad0_depth60_90_180_365_1095_1825_2555_3650.csv\n",
      "('2009-05-31', '2023-05-10') magn_6_aft_rad5_depth60_90_180_365_1095_1825_2555_3650.csv\n"
     ]
    }
   ],
   "source": [
    "border_values_for_list(feature_set_paths)"
   ]
  },
  {
   "cell_type": "code",
   "execution_count": 10,
   "metadata": {
    "execution": {
     "iopub.execute_input": "2024-11-24T08:22:33.443131Z",
     "iopub.status.busy": "2024-11-24T08:22:33.441879Z",
     "iopub.status.idle": "2024-11-24T08:23:26.727498Z",
     "shell.execute_reply": "2024-11-24T08:23:26.726621Z",
     "shell.execute_reply.started": "2024-11-24T08:22:33.443055Z"
    }
   },
   "outputs": [
    {
     "name": "stderr",
     "output_type": "stream",
     "text": [
      "100%|██████████| 3/3 [00:53<00:00, 17.72s/it]\n"
     ]
    }
   ],
   "source": [
    "df_magn_6_aft = join_feature_files(feature_set_paths, feature_dir)"
   ]
  },
  {
   "cell_type": "code",
   "execution_count": 12,
   "metadata": {
    "execution": {
     "iopub.execute_input": "2024-11-24T08:23:53.542943Z",
     "iopub.status.busy": "2024-11-24T08:23:53.541743Z",
     "iopub.status.idle": "2024-11-24T08:23:53.556363Z",
     "shell.execute_reply": "2024-11-24T08:23:53.555271Z",
     "shell.execute_reply.started": "2024-11-24T08:23:53.542878Z"
    }
   },
   "outputs": [
    {
     "data": {
      "text/plain": [
       "7909"
      ]
     },
     "execution_count": 12,
     "metadata": {},
     "output_type": "execute_result"
    }
   ],
   "source": [
    "df_magn_6_aft[\"target\"].sum()"
   ]
  },
  {
   "cell_type": "code",
   "execution_count": 14,
   "metadata": {
    "execution": {
     "iopub.execute_input": "2024-11-24T08:24:24.170840Z",
     "iopub.status.busy": "2024-11-24T08:24:24.169945Z",
     "iopub.status.idle": "2024-11-24T08:34:41.351358Z",
     "shell.execute_reply": "2024-11-24T08:34:41.350466Z",
     "shell.execute_reply.started": "2024-11-24T08:24:24.170791Z"
    }
   },
   "outputs": [],
   "source": [
    "df_magn_6_aft = add_time_cols(df_magn_6_aft)"
   ]
  },
  {
   "cell_type": "code",
   "execution_count": 19,
   "metadata": {
    "execution": {
     "iopub.execute_input": "2024-11-24T08:35:47.713158Z",
     "iopub.status.busy": "2024-11-24T08:35:47.711922Z",
     "iopub.status.idle": "2024-11-24T08:35:51.096696Z",
     "shell.execute_reply": "2024-11-24T08:35:51.096043Z",
     "shell.execute_reply.started": "2024-11-24T08:35:47.713106Z"
    }
   },
   "outputs": [
    {
     "name": "stdout",
     "output_type": "stream",
     "text": [
      "len(df):                 5520812\n",
      "'dt' border values:      ('2009-05-31', '2023-05-10')\n",
      "len(columns):            136\n",
      "count target==1:         7909\n",
      "last dt, when target==1: 2023-05-10\n",
      "\n",
      "features_dict:\n"
     ]
    },
    {
     "data": {
      "text/plain": [
       "{0: [0, 1, 3, 5, 7, 10], 3: [0, 1, 3, 5, 7, 10], 5: [0, 1, 3, 5, 7, 10]}"
      ]
     },
     "metadata": {},
     "output_type": "display_data"
    }
   ],
   "source": [
    "print_some_stats(df_magn_6_aft)"
   ]
  },
  {
   "cell_type": "code",
   "execution_count": 24,
   "metadata": {
    "execution": {
     "iopub.execute_input": "2024-11-24T08:37:29.103012Z",
     "iopub.status.busy": "2024-11-24T08:37:29.101900Z",
     "iopub.status.idle": "2024-11-24T08:37:38.802232Z",
     "shell.execute_reply": "2024-11-24T08:37:38.800849Z",
     "shell.execute_reply.started": "2024-11-24T08:37:29.102963Z"
    }
   },
   "outputs": [],
   "source": [
    "df_magn_6_aft.to_parquet(out_file, index=False)"
   ]
  },
  {
   "cell_type": "markdown",
   "metadata": {},
   "source": [
    "### features based on magn>3.5"
   ]
  },
  {
   "cell_type": "code",
   "execution_count": 120,
   "metadata": {
    "execution": {
     "iopub.execute_input": "2024-12-03T17:34:16.571619Z",
     "iopub.status.busy": "2024-12-03T17:34:16.571060Z",
     "iopub.status.idle": "2024-12-03T17:34:16.581624Z",
     "shell.execute_reply": "2024-12-03T17:34:16.579794Z",
     "shell.execute_reply.started": "2024-12-03T17:34:16.571564Z"
    }
   },
   "outputs": [],
   "source": [
    "dataset_type = \"magn_6_aft_features_3_5\"\n",
    "out_file = f\"data/dataset/{dataset_type}.parquet\"\n",
    "feature_set_paths = [x for x in os.listdir(feature_dir) if dataset_type in x]"
   ]
  },
  {
   "cell_type": "code",
   "execution_count": 121,
   "metadata": {
    "execution": {
     "iopub.execute_input": "2024-12-03T17:34:17.303100Z",
     "iopub.status.busy": "2024-12-03T17:34:17.302562Z",
     "iopub.status.idle": "2024-12-03T17:34:17.313997Z",
     "shell.execute_reply": "2024-12-03T17:34:17.312202Z",
     "shell.execute_reply.started": "2024-12-03T17:34:17.303050Z"
    }
   },
   "outputs": [
    {
     "data": {
      "text/plain": [
       "['magn_6_aft_features_3_5_rad3_depth60_90_180_365_1095_1825_2555_3650_trs6.0.csv',\n",
       " 'magn_6_aft_features_3_5_rad0_depth60_90_180_365_1095_1825_2555_3650_trs6.0.csv',\n",
       " 'magn_6_aft_features_3_5_rad5_depth60_90_180_365_1095_1825_2555_3650_trs6.0.csv']"
      ]
     },
     "execution_count": 121,
     "metadata": {},
     "output_type": "execute_result"
    }
   ],
   "source": [
    "feature_set_paths"
   ]
  },
  {
   "cell_type": "code",
   "execution_count": 9,
   "metadata": {
    "execution": {
     "iopub.execute_input": "2024-11-24T08:21:29.432280Z",
     "iopub.status.busy": "2024-11-24T08:21:29.431172Z",
     "iopub.status.idle": "2024-11-24T08:22:16.044635Z",
     "shell.execute_reply": "2024-11-24T08:22:16.043746Z",
     "shell.execute_reply.started": "2024-11-24T08:21:29.432231Z"
    }
   },
   "outputs": [
    {
     "name": "stdout",
     "output_type": "stream",
     "text": [
      "('2009-05-31', '2023-05-10') magn_6_aft_rad3_depth60_90_180_365_1095_1825_2555_3650.csv\n",
      "('2009-05-31', '2023-05-10') magn_6_aft_rad0_depth60_90_180_365_1095_1825_2555_3650.csv\n",
      "('2009-05-31', '2023-05-10') magn_6_aft_rad5_depth60_90_180_365_1095_1825_2555_3650.csv\n"
     ]
    }
   ],
   "source": [
    "border_values_for_list(feature_set_paths)"
   ]
  },
  {
   "cell_type": "code",
   "execution_count": 122,
   "metadata": {
    "execution": {
     "iopub.execute_input": "2024-12-03T17:34:59.479961Z",
     "iopub.status.busy": "2024-12-03T17:34:59.479413Z",
     "iopub.status.idle": "2024-12-03T17:35:09.849196Z",
     "shell.execute_reply": "2024-12-03T17:35:09.847759Z",
     "shell.execute_reply.started": "2024-12-03T17:34:59.479901Z"
    }
   },
   "outputs": [
    {
     "name": "stderr",
     "output_type": "stream",
     "text": [
      "100%|██████████| 3/3 [00:10<00:00,  3.45s/it]\n"
     ]
    }
   ],
   "source": [
    "df_magn_6_aft = join_feature_files(feature_set_paths, feature_dir)"
   ]
  },
  {
   "cell_type": "code",
   "execution_count": 123,
   "metadata": {
    "execution": {
     "iopub.execute_input": "2024-12-03T17:35:20.546796Z",
     "iopub.status.busy": "2024-12-03T17:35:20.546021Z",
     "iopub.status.idle": "2024-12-03T17:35:20.559264Z",
     "shell.execute_reply": "2024-12-03T17:35:20.557715Z",
     "shell.execute_reply.started": "2024-12-03T17:35:20.546742Z"
    }
   },
   "outputs": [
    {
     "data": {
      "text/plain": [
       "7156"
      ]
     },
     "execution_count": 123,
     "metadata": {},
     "output_type": "execute_result"
    }
   ],
   "source": [
    "df_magn_6_aft[\"target\"].sum()"
   ]
  },
  {
   "cell_type": "code",
   "execution_count": 124,
   "metadata": {
    "execution": {
     "iopub.execute_input": "2024-12-03T17:35:31.839265Z",
     "iopub.status.busy": "2024-12-03T17:35:31.838733Z",
     "iopub.status.idle": "2024-12-03T17:37:14.159357Z",
     "shell.execute_reply": "2024-12-03T17:37:14.158208Z",
     "shell.execute_reply.started": "2024-12-03T17:35:31.839218Z"
    }
   },
   "outputs": [],
   "source": [
    "df_magn_6_aft = add_time_cols(df_magn_6_aft)"
   ]
  },
  {
   "cell_type": "code",
   "execution_count": 125,
   "metadata": {
    "execution": {
     "iopub.execute_input": "2024-12-03T17:37:14.160618Z",
     "iopub.status.busy": "2024-12-03T17:37:14.160489Z",
     "iopub.status.idle": "2024-12-03T17:37:14.619370Z",
     "shell.execute_reply": "2024-12-03T17:37:14.618404Z",
     "shell.execute_reply.started": "2024-12-03T17:37:14.160606Z"
    }
   },
   "outputs": [
    {
     "name": "stdout",
     "output_type": "stream",
     "text": [
      "len(df):                 920925\n",
      "'dt' border values:      ('2009-05-31', '2020-08-13')\n",
      "len(columns):            136\n",
      "count target==1:         7156\n",
      "last dt, when target==1: 2020-08-13\n",
      "\n",
      "features_dict:\n"
     ]
    },
    {
     "data": {
      "text/plain": [
       "{0: [0, 1, 3, 5, 7, 10], 3: [0, 1, 3, 5, 7, 10], 5: [0, 1, 3, 5, 7, 10]}"
      ]
     },
     "metadata": {},
     "output_type": "display_data"
    }
   ],
   "source": [
    "print_some_stats(df_magn_6_aft)"
   ]
  },
  {
   "cell_type": "code",
   "execution_count": 126,
   "metadata": {
    "execution": {
     "iopub.execute_input": "2024-12-03T17:37:14.620089Z",
     "iopub.status.busy": "2024-12-03T17:37:14.619963Z",
     "iopub.status.idle": "2024-12-03T17:37:17.614743Z",
     "shell.execute_reply": "2024-12-03T17:37:17.612996Z",
     "shell.execute_reply.started": "2024-12-03T17:37:14.620077Z"
    }
   },
   "outputs": [],
   "source": [
    "df_magn_6_aft.to_parquet(out_file, index=False)"
   ]
  },
  {
   "cell_type": "code",
   "execution_count": null,
   "metadata": {},
   "outputs": [],
   "source": []
  },
  {
   "cell_type": "code",
   "execution_count": 127,
   "metadata": {
    "execution": {
     "iopub.execute_input": "2024-12-03T17:37:17.617454Z",
     "iopub.status.busy": "2024-12-03T17:37:17.617277Z",
     "iopub.status.idle": "2024-12-03T17:37:17.624087Z",
     "shell.execute_reply": "2024-12-03T17:37:17.622670Z",
     "shell.execute_reply.started": "2024-12-03T17:37:17.617439Z"
    }
   },
   "outputs": [],
   "source": [
    "dataset_type = \"magn_6_aft_test_features_3_5\"\n",
    "out_file = f\"data/dataset/{dataset_type}.parquet\"\n",
    "feature_set_paths = [x for x in os.listdir(feature_dir) if dataset_type in x]"
   ]
  },
  {
   "cell_type": "code",
   "execution_count": 128,
   "metadata": {
    "execution": {
     "iopub.execute_input": "2024-12-03T17:37:17.624653Z",
     "iopub.status.busy": "2024-12-03T17:37:17.624520Z",
     "iopub.status.idle": "2024-12-03T17:37:17.630386Z",
     "shell.execute_reply": "2024-12-03T17:37:17.629454Z",
     "shell.execute_reply.started": "2024-12-03T17:37:17.624641Z"
    }
   },
   "outputs": [
    {
     "data": {
      "text/plain": [
       "['magn_6_aft_test_features_3_5_rad0_3_5_depth60_90_180_365_1095_1825_2555_3650_trs6.0.csv']"
      ]
     },
     "execution_count": 128,
     "metadata": {},
     "output_type": "execute_result"
    }
   ],
   "source": [
    "feature_set_paths"
   ]
  },
  {
   "cell_type": "code",
   "execution_count": 129,
   "metadata": {
    "execution": {
     "iopub.execute_input": "2024-12-03T17:37:17.631083Z",
     "iopub.status.busy": "2024-12-03T17:37:17.630958Z",
     "iopub.status.idle": "2024-12-03T17:37:19.490125Z",
     "shell.execute_reply": "2024-12-03T17:37:19.489299Z",
     "shell.execute_reply.started": "2024-12-03T17:37:17.631072Z"
    }
   },
   "outputs": [
    {
     "name": "stdout",
     "output_type": "stream",
     "text": [
      "('2020-10-02', '2023-05-09') magn_6_aft_test_features_3_5_rad0_3_5_depth60_90_180_365_1095_1825_2555_3650_trs6.0.csv\n"
     ]
    }
   ],
   "source": [
    "border_values_for_list(feature_set_paths)"
   ]
  },
  {
   "cell_type": "code",
   "execution_count": 130,
   "metadata": {
    "execution": {
     "iopub.execute_input": "2024-12-03T17:37:19.491094Z",
     "iopub.status.busy": "2024-12-03T17:37:19.490941Z",
     "iopub.status.idle": "2024-12-03T17:37:21.026651Z",
     "shell.execute_reply": "2024-12-03T17:37:21.025620Z",
     "shell.execute_reply.started": "2024-12-03T17:37:19.491081Z"
    }
   },
   "outputs": [
    {
     "name": "stderr",
     "output_type": "stream",
     "text": [
      "100%|██████████| 1/1 [00:01<00:00,  1.50s/it]\n"
     ]
    }
   ],
   "source": [
    "df_magn_6_aft = join_feature_files(feature_set_paths, feature_dir)"
   ]
  },
  {
   "cell_type": "code",
   "execution_count": 131,
   "metadata": {
    "execution": {
     "iopub.execute_input": "2024-12-03T17:37:21.027379Z",
     "iopub.status.busy": "2024-12-03T17:37:21.027252Z",
     "iopub.status.idle": "2024-12-03T17:37:21.032636Z",
     "shell.execute_reply": "2024-12-03T17:37:21.031806Z",
     "shell.execute_reply.started": "2024-12-03T17:37:21.027368Z"
    }
   },
   "outputs": [
    {
     "data": {
      "text/plain": [
       "730"
      ]
     },
     "execution_count": 131,
     "metadata": {},
     "output_type": "execute_result"
    }
   ],
   "source": [
    "df_magn_6_aft[\"target\"].sum()"
   ]
  },
  {
   "cell_type": "code",
   "execution_count": 132,
   "metadata": {
    "execution": {
     "iopub.execute_input": "2024-12-03T17:37:21.033201Z",
     "iopub.status.busy": "2024-12-03T17:37:21.033091Z",
     "iopub.status.idle": "2024-12-03T17:37:44.992319Z",
     "shell.execute_reply": "2024-12-03T17:37:44.991091Z",
     "shell.execute_reply.started": "2024-12-03T17:37:21.033190Z"
    }
   },
   "outputs": [],
   "source": [
    "df_magn_6_aft = add_time_cols(df_magn_6_aft)"
   ]
  },
  {
   "cell_type": "code",
   "execution_count": 133,
   "metadata": {
    "execution": {
     "iopub.execute_input": "2024-12-03T17:37:44.994015Z",
     "iopub.status.busy": "2024-12-03T17:37:44.993865Z",
     "iopub.status.idle": "2024-12-03T17:37:45.104975Z",
     "shell.execute_reply": "2024-12-03T17:37:45.103879Z",
     "shell.execute_reply.started": "2024-12-03T17:37:44.994001Z"
    }
   },
   "outputs": [
    {
     "name": "stdout",
     "output_type": "stream",
     "text": [
      "len(df):                 213750\n",
      "'dt' border values:      ('2020-10-02', '2023-05-09')\n",
      "len(columns):            136\n",
      "count target==1:         730\n",
      "last dt, when target==1: 2023-05-09\n",
      "\n",
      "features_dict:\n"
     ]
    },
    {
     "data": {
      "text/plain": [
       "{0: [0, 1, 3, 5, 7, 10], 3: [0, 1, 3, 5, 7, 10], 5: [0, 1, 3, 5, 7, 10]}"
      ]
     },
     "metadata": {},
     "output_type": "display_data"
    }
   ],
   "source": [
    "print_some_stats(df_magn_6_aft)"
   ]
  },
  {
   "cell_type": "code",
   "execution_count": 134,
   "metadata": {
    "execution": {
     "iopub.execute_input": "2024-12-03T17:37:45.105733Z",
     "iopub.status.busy": "2024-12-03T17:37:45.105610Z",
     "iopub.status.idle": "2024-12-03T17:37:45.707995Z",
     "shell.execute_reply": "2024-12-03T17:37:45.706473Z",
     "shell.execute_reply.started": "2024-12-03T17:37:45.105722Z"
    }
   },
   "outputs": [],
   "source": [
    "df_magn_6_aft.to_parquet(out_file, index=False)"
   ]
  },
  {
   "cell_type": "markdown",
   "metadata": {},
   "source": [
    "## withoutaft magn>6.0"
   ]
  },
  {
   "cell_type": "markdown",
   "metadata": {},
   "source": [
    "### features based on magn>6"
   ]
  },
  {
   "cell_type": "code",
   "execution_count": 25,
   "metadata": {
    "execution": {
     "iopub.execute_input": "2024-11-24T08:37:41.174954Z",
     "iopub.status.busy": "2024-11-24T08:37:41.174158Z",
     "iopub.status.idle": "2024-11-24T08:37:41.182985Z",
     "shell.execute_reply": "2024-11-24T08:37:41.181892Z",
     "shell.execute_reply.started": "2024-11-24T08:37:41.174883Z"
    }
   },
   "outputs": [],
   "source": [
    "dataset_type = \"magn_6_withoutaft\"\n",
    "out_file = f\"data/dataset/{dataset_type}.parquet\"\n",
    "feature_set_paths = [x for x in os.listdir(feature_dir) if dataset_type in x]"
   ]
  },
  {
   "cell_type": "code",
   "execution_count": 26,
   "metadata": {
    "execution": {
     "iopub.execute_input": "2024-11-24T08:37:42.076107Z",
     "iopub.status.busy": "2024-11-24T08:37:42.075575Z",
     "iopub.status.idle": "2024-11-24T08:37:42.084322Z",
     "shell.execute_reply": "2024-11-24T08:37:42.083296Z",
     "shell.execute_reply.started": "2024-11-24T08:37:42.076059Z"
    }
   },
   "outputs": [
    {
     "data": {
      "text/plain": [
       "['magn_6_withoutaft_rad0_3_5_depth60_90_180_365_1095_1825_2555_3650.csv']"
      ]
     },
     "execution_count": 26,
     "metadata": {},
     "output_type": "execute_result"
    }
   ],
   "source": [
    "feature_set_paths"
   ]
  },
  {
   "cell_type": "code",
   "execution_count": 27,
   "metadata": {
    "execution": {
     "iopub.execute_input": "2024-11-24T08:37:47.976359Z",
     "iopub.status.busy": "2024-11-24T08:37:47.975114Z",
     "iopub.status.idle": "2024-11-24T08:38:03.687767Z",
     "shell.execute_reply": "2024-11-24T08:38:03.686861Z",
     "shell.execute_reply.started": "2024-11-24T08:37:47.976303Z"
    }
   },
   "outputs": [
    {
     "name": "stdout",
     "output_type": "stream",
     "text": [
      "('2009-05-31', '2023-05-10') magn_6_withoutaft_rad0_3_5_depth60_90_180_365_1095_1825_2555_3650.csv\n"
     ]
    }
   ],
   "source": [
    "border_values_for_list(feature_set_paths)"
   ]
  },
  {
   "cell_type": "code",
   "execution_count": 28,
   "metadata": {
    "execution": {
     "iopub.execute_input": "2024-11-24T08:38:03.689044Z",
     "iopub.status.busy": "2024-11-24T08:38:03.688883Z",
     "iopub.status.idle": "2024-11-24T08:38:18.854141Z",
     "shell.execute_reply": "2024-11-24T08:38:18.853336Z",
     "shell.execute_reply.started": "2024-11-24T08:38:03.689031Z"
    }
   },
   "outputs": [
    {
     "name": "stderr",
     "output_type": "stream",
     "text": [
      "100%|██████████| 1/1 [00:15<00:00, 15.11s/it]\n"
     ]
    }
   ],
   "source": [
    "df_magn_6_withoutaft = join_feature_files(feature_set_paths, feature_dir)"
   ]
  },
  {
   "cell_type": "code",
   "execution_count": 29,
   "metadata": {
    "execution": {
     "iopub.execute_input": "2024-11-24T08:38:18.855050Z",
     "iopub.status.busy": "2024-11-24T08:38:18.854896Z",
     "iopub.status.idle": "2024-11-24T08:38:18.860713Z",
     "shell.execute_reply": "2024-11-24T08:38:18.860127Z",
     "shell.execute_reply.started": "2024-11-24T08:38:18.855036Z"
    }
   },
   "outputs": [
    {
     "data": {
      "text/plain": [
       "3115"
      ]
     },
     "execution_count": 29,
     "metadata": {},
     "output_type": "execute_result"
    }
   ],
   "source": [
    "df_magn_6_withoutaft[\"target\"].sum()"
   ]
  },
  {
   "cell_type": "code",
   "execution_count": 30,
   "metadata": {
    "execution": {
     "iopub.execute_input": "2024-11-24T08:38:18.861842Z",
     "iopub.status.busy": "2024-11-24T08:38:18.861717Z",
     "iopub.status.idle": "2024-11-24T08:42:40.323706Z",
     "shell.execute_reply": "2024-11-24T08:42:40.322812Z",
     "shell.execute_reply.started": "2024-11-24T08:38:18.861831Z"
    }
   },
   "outputs": [],
   "source": [
    "df_magn_6_withoutaft = add_time_cols(df_magn_6_withoutaft)"
   ]
  },
  {
   "cell_type": "code",
   "execution_count": 31,
   "metadata": {
    "execution": {
     "iopub.execute_input": "2024-11-24T08:42:40.324662Z",
     "iopub.status.busy": "2024-11-24T08:42:40.324516Z",
     "iopub.status.idle": "2024-11-24T08:42:41.650527Z",
     "shell.execute_reply": "2024-11-24T08:42:41.649902Z",
     "shell.execute_reply.started": "2024-11-24T08:42:40.324649Z"
    }
   },
   "outputs": [
    {
     "name": "stdout",
     "output_type": "stream",
     "text": [
      "len(df):                 2363152\n",
      "'dt' border values:      ('2009-05-31', '2023-05-10')\n",
      "len(columns):            136\n",
      "count target==1:         3115\n",
      "last dt, when target==1: 2023-05-10\n",
      "\n",
      "features_dict:\n"
     ]
    },
    {
     "data": {
      "text/plain": [
       "{0: [0, 1, 3, 5, 7, 10], 3: [0, 1, 3, 5, 7, 10], 5: [0, 1, 3, 5, 7, 10]}"
      ]
     },
     "metadata": {},
     "output_type": "display_data"
    }
   ],
   "source": [
    "print_some_stats(df_magn_6_withoutaft)"
   ]
  },
  {
   "cell_type": "code",
   "execution_count": 32,
   "metadata": {
    "execution": {
     "iopub.execute_input": "2024-11-24T08:42:41.651617Z",
     "iopub.status.busy": "2024-11-24T08:42:41.651480Z",
     "iopub.status.idle": "2024-11-24T08:42:46.739935Z",
     "shell.execute_reply": "2024-11-24T08:42:46.739024Z",
     "shell.execute_reply.started": "2024-11-24T08:42:41.651605Z"
    }
   },
   "outputs": [],
   "source": [
    "df_magn_6_withoutaft.to_parquet(out_file, index=False)"
   ]
  },
  {
   "cell_type": "code",
   "execution_count": null,
   "metadata": {},
   "outputs": [],
   "source": []
  },
  {
   "cell_type": "markdown",
   "metadata": {},
   "source": [
    "### features based on magn>3.5"
   ]
  },
  {
   "cell_type": "code",
   "execution_count": 136,
   "metadata": {
    "execution": {
     "iopub.execute_input": "2024-12-03T17:38:11.617823Z",
     "iopub.status.busy": "2024-12-03T17:38:11.617288Z",
     "iopub.status.idle": "2024-12-03T17:38:11.626401Z",
     "shell.execute_reply": "2024-12-03T17:38:11.624663Z",
     "shell.execute_reply.started": "2024-12-03T17:38:11.617775Z"
    }
   },
   "outputs": [],
   "source": [
    "dataset_type = \"magn_6_withoutaft_features_3_5\"\n",
    "out_file = f\"data/dataset/{dataset_type}.parquet\"\n",
    "feature_set_paths = [x for x in os.listdir(feature_dir) if dataset_type in x]"
   ]
  },
  {
   "cell_type": "code",
   "execution_count": 137,
   "metadata": {
    "execution": {
     "iopub.execute_input": "2024-12-03T17:38:12.101593Z",
     "iopub.status.busy": "2024-12-03T17:38:12.101087Z",
     "iopub.status.idle": "2024-12-03T17:38:12.111223Z",
     "shell.execute_reply": "2024-12-03T17:38:12.109776Z",
     "shell.execute_reply.started": "2024-12-03T17:38:12.101547Z"
    }
   },
   "outputs": [
    {
     "data": {
      "text/plain": [
       "['magn_6_withoutaft_features_3_5_rad5_depth60_90_180_365_1095_1825_2555_3650_trs6.0.csv',\n",
       " 'magn_6_withoutaft_features_3_5_rad3_depth60_90_180_365_1095_1825_2555_3650_trs6.0.csv',\n",
       " 'magn_6_withoutaft_features_3_5_rad0_depth60_90_180_365_1095_1825_2555_3650_trs6.0.csv']"
      ]
     },
     "execution_count": 137,
     "metadata": {},
     "output_type": "execute_result"
    }
   ],
   "source": [
    "feature_set_paths"
   ]
  },
  {
   "cell_type": "code",
   "execution_count": 138,
   "metadata": {
    "execution": {
     "iopub.execute_input": "2024-12-03T17:38:12.603211Z",
     "iopub.status.busy": "2024-12-03T17:38:12.602682Z",
     "iopub.status.idle": "2024-12-03T17:38:16.630504Z",
     "shell.execute_reply": "2024-12-03T17:38:16.629406Z",
     "shell.execute_reply.started": "2024-12-03T17:38:12.603163Z"
    }
   },
   "outputs": [
    {
     "name": "stdout",
     "output_type": "stream",
     "text": [
      "('2009-05-31', '2020-08-13') magn_6_withoutaft_features_3_5_rad5_depth60_90_180_365_1095_1825_2555_3650_trs6.0.csv\n",
      "('2009-05-31', '2020-08-13') magn_6_withoutaft_features_3_5_rad3_depth60_90_180_365_1095_1825_2555_3650_trs6.0.csv\n",
      "('2009-05-31', '2020-08-13') magn_6_withoutaft_features_3_5_rad0_depth60_90_180_365_1095_1825_2555_3650_trs6.0.csv\n"
     ]
    }
   ],
   "source": [
    "border_values_for_list(feature_set_paths)"
   ]
  },
  {
   "cell_type": "code",
   "execution_count": 139,
   "metadata": {
    "execution": {
     "iopub.execute_input": "2024-12-03T17:38:16.631488Z",
     "iopub.status.busy": "2024-12-03T17:38:16.631364Z",
     "iopub.status.idle": "2024-12-03T17:38:20.285941Z",
     "shell.execute_reply": "2024-12-03T17:38:20.285254Z",
     "shell.execute_reply.started": "2024-12-03T17:38:16.631477Z"
    }
   },
   "outputs": [
    {
     "name": "stderr",
     "output_type": "stream",
     "text": [
      "100%|██████████| 3/3 [00:03<00:00,  1.21s/it]\n"
     ]
    }
   ],
   "source": [
    "df_magn_6_withoutaft = join_feature_files(feature_set_paths, feature_dir)"
   ]
  },
  {
   "cell_type": "code",
   "execution_count": 140,
   "metadata": {
    "execution": {
     "iopub.execute_input": "2024-12-03T17:38:22.184739Z",
     "iopub.status.busy": "2024-12-03T17:38:22.184210Z",
     "iopub.status.idle": "2024-12-03T17:38:22.194051Z",
     "shell.execute_reply": "2024-12-03T17:38:22.193021Z",
     "shell.execute_reply.started": "2024-12-03T17:38:22.184690Z"
    }
   },
   "outputs": [
    {
     "data": {
      "text/plain": [
       "2600"
      ]
     },
     "execution_count": 140,
     "metadata": {},
     "output_type": "execute_result"
    }
   ],
   "source": [
    "df_magn_6_withoutaft[\"target\"].sum()"
   ]
  },
  {
   "cell_type": "code",
   "execution_count": 141,
   "metadata": {
    "execution": {
     "iopub.execute_input": "2024-12-03T17:38:23.083902Z",
     "iopub.status.busy": "2024-12-03T17:38:23.083379Z",
     "iopub.status.idle": "2024-12-03T17:39:09.398012Z",
     "shell.execute_reply": "2024-12-03T17:39:09.397143Z",
     "shell.execute_reply.started": "2024-12-03T17:38:23.083855Z"
    }
   },
   "outputs": [],
   "source": [
    "df_magn_6_withoutaft = add_time_cols(df_magn_6_withoutaft)"
   ]
  },
  {
   "cell_type": "code",
   "execution_count": 142,
   "metadata": {
    "execution": {
     "iopub.execute_input": "2024-12-03T17:39:09.399314Z",
     "iopub.status.busy": "2024-12-03T17:39:09.399174Z",
     "iopub.status.idle": "2024-12-03T17:39:09.622104Z",
     "shell.execute_reply": "2024-12-03T17:39:09.621036Z",
     "shell.execute_reply.started": "2024-12-03T17:39:09.399302Z"
    }
   },
   "outputs": [
    {
     "name": "stdout",
     "output_type": "stream",
     "text": [
      "len(df):                 417486\n",
      "'dt' border values:      ('2009-05-31', '2020-08-13')\n",
      "len(columns):            136\n",
      "count target==1:         2600\n",
      "last dt, when target==1: 2020-06-14\n",
      "\n",
      "features_dict:\n"
     ]
    },
    {
     "data": {
      "text/plain": [
       "{0: [0, 1, 3, 5, 7, 10], 3: [0, 1, 3, 5, 7, 10], 5: [0, 1, 3, 5, 7, 10]}"
      ]
     },
     "metadata": {},
     "output_type": "display_data"
    }
   ],
   "source": [
    "print_some_stats(df_magn_6_withoutaft)"
   ]
  },
  {
   "cell_type": "code",
   "execution_count": 143,
   "metadata": {
    "execution": {
     "iopub.execute_input": "2024-12-03T17:39:09.622999Z",
     "iopub.status.busy": "2024-12-03T17:39:09.622870Z",
     "iopub.status.idle": "2024-12-03T17:39:10.647791Z",
     "shell.execute_reply": "2024-12-03T17:39:10.646335Z",
     "shell.execute_reply.started": "2024-12-03T17:39:09.622988Z"
    }
   },
   "outputs": [],
   "source": [
    "df_magn_6_withoutaft.to_parquet(out_file, index=False)"
   ]
  },
  {
   "cell_type": "code",
   "execution_count": null,
   "metadata": {},
   "outputs": [],
   "source": []
  },
  {
   "cell_type": "code",
   "execution_count": 144,
   "metadata": {
    "execution": {
     "iopub.execute_input": "2024-12-03T17:39:10.650025Z",
     "iopub.status.busy": "2024-12-03T17:39:10.649818Z",
     "iopub.status.idle": "2024-12-03T17:39:10.656783Z",
     "shell.execute_reply": "2024-12-03T17:39:10.655375Z",
     "shell.execute_reply.started": "2024-12-03T17:39:10.650010Z"
    }
   },
   "outputs": [],
   "source": [
    "dataset_type = \"magn_6_test_withoutaft_features_3_5\"\n",
    "out_file = f\"data/dataset/{dataset_type}.parquet\"\n",
    "feature_set_paths = [x for x in os.listdir(feature_dir) if dataset_type in x]"
   ]
  },
  {
   "cell_type": "code",
   "execution_count": 145,
   "metadata": {
    "execution": {
     "iopub.execute_input": "2024-12-03T17:39:10.657435Z",
     "iopub.status.busy": "2024-12-03T17:39:10.657285Z",
     "iopub.status.idle": "2024-12-03T17:39:10.663049Z",
     "shell.execute_reply": "2024-12-03T17:39:10.662048Z",
     "shell.execute_reply.started": "2024-12-03T17:39:10.657421Z"
    }
   },
   "outputs": [
    {
     "data": {
      "text/plain": [
       "[]"
      ]
     },
     "execution_count": 145,
     "metadata": {},
     "output_type": "execute_result"
    }
   ],
   "source": [
    "feature_set_paths"
   ]
  },
  {
   "cell_type": "code",
   "execution_count": 146,
   "metadata": {
    "execution": {
     "iopub.execute_input": "2024-12-03T17:39:10.663833Z",
     "iopub.status.busy": "2024-12-03T17:39:10.663687Z",
     "iopub.status.idle": "2024-12-03T17:39:10.668783Z",
     "shell.execute_reply": "2024-12-03T17:39:10.667668Z",
     "shell.execute_reply.started": "2024-12-03T17:39:10.663820Z"
    }
   },
   "outputs": [],
   "source": [
    "border_values_for_list(feature_set_paths)"
   ]
  },
  {
   "cell_type": "code",
   "execution_count": 147,
   "metadata": {
    "execution": {
     "iopub.execute_input": "2024-12-03T17:39:10.669765Z",
     "iopub.status.busy": "2024-12-03T17:39:10.669570Z",
     "iopub.status.idle": "2024-12-03T17:39:10.694022Z",
     "shell.execute_reply": "2024-12-03T17:39:10.692648Z",
     "shell.execute_reply.started": "2024-12-03T17:39:10.669746Z"
    }
   },
   "outputs": [
    {
     "name": "stderr",
     "output_type": "stream",
     "text": [
      "0it [00:00, ?it/s]\n"
     ]
    }
   ],
   "source": [
    "df_magn_6_withoutaft = join_feature_files(feature_set_paths, feature_dir)"
   ]
  },
  {
   "cell_type": "code",
   "execution_count": 148,
   "metadata": {
    "execution": {
     "iopub.execute_input": "2024-12-03T17:39:10.694873Z",
     "iopub.status.busy": "2024-12-03T17:39:10.694684Z",
     "iopub.status.idle": "2024-12-03T17:39:10.720547Z",
     "shell.execute_reply": "2024-12-03T17:39:10.718671Z",
     "shell.execute_reply.started": "2024-12-03T17:39:10.694855Z"
    }
   },
   "outputs": [
    {
     "ename": "TypeError",
     "evalue": "'NoneType' object is not subscriptable",
     "output_type": "error",
     "traceback": [
      "\u001b[0;31m---------------------------------------------------------------------------\u001b[0m",
      "\u001b[0;31mTypeError\u001b[0m                                 Traceback (most recent call last)",
      "Cell \u001b[0;32mIn[148], line 1\u001b[0m\n\u001b[0;32m----> 1\u001b[0m df_magn_6_withoutaft[\u001b[38;5;124m\"\u001b[39m\u001b[38;5;124mtarget\u001b[39m\u001b[38;5;124m\"\u001b[39m]\u001b[38;5;241m.\u001b[39msum()\n",
      "\u001b[0;31mTypeError\u001b[0m: 'NoneType' object is not subscriptable"
     ]
    }
   ],
   "source": [
    "df_magn_6_withoutaft[\"target\"].sum()"
   ]
  },
  {
   "cell_type": "code",
   "execution_count": null,
   "metadata": {
    "execution": {
     "iopub.status.busy": "2024-12-03T17:39:10.721105Z",
     "iopub.status.idle": "2024-12-03T17:39:10.721314Z",
     "shell.execute_reply": "2024-12-03T17:39:10.721227Z",
     "shell.execute_reply.started": "2024-12-03T17:39:10.721217Z"
    }
   },
   "outputs": [],
   "source": [
    "df_magn_6_withoutaft = add_time_cols(df_magn_6_withoutaft)"
   ]
  },
  {
   "cell_type": "code",
   "execution_count": null,
   "metadata": {
    "execution": {
     "iopub.status.busy": "2024-12-03T17:39:10.721685Z",
     "iopub.status.idle": "2024-12-03T17:39:10.721848Z",
     "shell.execute_reply": "2024-12-03T17:39:10.721776Z",
     "shell.execute_reply.started": "2024-12-03T17:39:10.721768Z"
    }
   },
   "outputs": [],
   "source": [
    "print_some_stats(df_magn_6_withoutaft)"
   ]
  },
  {
   "cell_type": "code",
   "execution_count": null,
   "metadata": {
    "execution": {
     "iopub.status.busy": "2024-12-03T17:39:10.722656Z",
     "iopub.status.idle": "2024-12-03T17:39:10.722825Z",
     "shell.execute_reply": "2024-12-03T17:39:10.722753Z",
     "shell.execute_reply.started": "2024-12-03T17:39:10.722746Z"
    }
   },
   "outputs": [],
   "source": [
    "df_magn_6_withoutaft.to_parquet(out_file, index=False)"
   ]
  },
  {
   "cell_type": "markdown",
   "metadata": {},
   "source": [
    "## trs 6.0"
   ]
  },
  {
   "cell_type": "markdown",
   "metadata": {},
   "source": [
    "## orig magn>6.0"
   ]
  },
  {
   "cell_type": "markdown",
   "metadata": {},
   "source": [
    "### train"
   ]
  },
  {
   "cell_type": "code",
   "execution_count": 59,
   "metadata": {
    "execution": {
     "iopub.execute_input": "2024-11-26T11:04:25.011012Z",
     "iopub.status.busy": "2024-11-26T11:04:25.010395Z",
     "iopub.status.idle": "2024-11-26T11:04:25.021936Z",
     "shell.execute_reply": "2024-11-26T11:04:25.020062Z",
     "shell.execute_reply.started": "2024-11-26T11:04:25.010960Z"
    }
   },
   "outputs": [],
   "source": [
    "dataset_type = \"magn_6_aft\"\n",
    "out_file = f\"data/dataset/{dataset_type}_trs6.0.parquet\"\n",
    "feature_set_paths = [x for x in os.listdir(feature_dir) if dataset_type in x and \"trs6\" in x and \"test\" not in x]"
   ]
  },
  {
   "cell_type": "code",
   "execution_count": 60,
   "metadata": {
    "execution": {
     "iopub.execute_input": "2024-11-26T11:04:26.426761Z",
     "iopub.status.busy": "2024-11-26T11:04:26.426233Z",
     "iopub.status.idle": "2024-11-26T11:04:26.438252Z",
     "shell.execute_reply": "2024-11-26T11:04:26.436440Z",
     "shell.execute_reply.started": "2024-11-26T11:04:26.426715Z"
    }
   },
   "outputs": [
    {
     "data": {
      "text/plain": [
       "['magn_6_aft_rad3_depth60_90_180_365_1095_1825_2555_3650_trs6.0.csv',\n",
       " 'magn_6_aft_rad5_depth60_90_180_365_1095_1825_2555_3650_trs6.0.csv',\n",
       " 'magn_6_aft_rad0_depth60_90_180_365_1095_1825_2555_3650_trs6.0.csv']"
      ]
     },
     "execution_count": 60,
     "metadata": {},
     "output_type": "execute_result"
    }
   ],
   "source": [
    "feature_set_paths"
   ]
  },
  {
   "cell_type": "code",
   "execution_count": 61,
   "metadata": {
    "execution": {
     "iopub.execute_input": "2024-11-26T11:04:30.388888Z",
     "iopub.status.busy": "2024-11-26T11:04:30.388363Z",
     "iopub.status.idle": "2024-11-26T11:04:38.827887Z",
     "shell.execute_reply": "2024-11-26T11:04:38.826268Z",
     "shell.execute_reply.started": "2024-11-26T11:04:30.388841Z"
    }
   },
   "outputs": [
    {
     "name": "stdout",
     "output_type": "stream",
     "text": [
      "('2009-05-31', '2020-08-13') magn_6_aft_rad3_depth60_90_180_365_1095_1825_2555_3650_trs6.0.csv\n",
      "('2009-05-31', '2020-08-13') magn_6_aft_rad5_depth60_90_180_365_1095_1825_2555_3650_trs6.0.csv\n",
      "('2009-05-31', '2020-08-13') magn_6_aft_rad0_depth60_90_180_365_1095_1825_2555_3650_trs6.0.csv\n"
     ]
    }
   ],
   "source": [
    "border_values_for_list(feature_set_paths)"
   ]
  },
  {
   "cell_type": "code",
   "execution_count": 62,
   "metadata": {
    "execution": {
     "iopub.execute_input": "2024-11-26T11:04:38.832447Z",
     "iopub.status.busy": "2024-11-26T11:04:38.831721Z",
     "iopub.status.idle": "2024-11-26T11:04:48.344198Z",
     "shell.execute_reply": "2024-11-26T11:04:48.343410Z",
     "shell.execute_reply.started": "2024-11-26T11:04:38.832397Z"
    }
   },
   "outputs": [
    {
     "name": "stderr",
     "output_type": "stream",
     "text": [
      "100%|██████████| 3/3 [00:09<00:00,  3.03s/it]\n"
     ]
    }
   ],
   "source": [
    "df_magn_6_aft = join_feature_files(feature_set_paths, feature_dir)"
   ]
  },
  {
   "cell_type": "code",
   "execution_count": 63,
   "metadata": {
    "execution": {
     "iopub.execute_input": "2024-11-26T11:04:48.345029Z",
     "iopub.status.busy": "2024-11-26T11:04:48.344869Z",
     "iopub.status.idle": "2024-11-26T11:04:48.350900Z",
     "shell.execute_reply": "2024-11-26T11:04:48.350316Z",
     "shell.execute_reply.started": "2024-11-26T11:04:48.345015Z"
    }
   },
   "outputs": [
    {
     "data": {
      "text/plain": [
       "7156"
      ]
     },
     "execution_count": 63,
     "metadata": {},
     "output_type": "execute_result"
    }
   ],
   "source": [
    "df_magn_6_aft[\"target\"].sum()"
   ]
  },
  {
   "cell_type": "code",
   "execution_count": 64,
   "metadata": {
    "execution": {
     "iopub.execute_input": "2024-11-26T11:05:15.622274Z",
     "iopub.status.busy": "2024-11-26T11:05:15.621704Z",
     "iopub.status.idle": "2024-11-26T11:06:57.924196Z",
     "shell.execute_reply": "2024-11-26T11:06:57.922797Z",
     "shell.execute_reply.started": "2024-11-26T11:05:15.622225Z"
    }
   },
   "outputs": [],
   "source": [
    "df_magn_6_aft = add_time_cols(df_magn_6_aft)"
   ]
  },
  {
   "cell_type": "code",
   "execution_count": 66,
   "metadata": {
    "execution": {
     "iopub.execute_input": "2024-11-26T11:08:32.648305Z",
     "iopub.status.busy": "2024-11-26T11:08:32.647756Z",
     "iopub.status.idle": "2024-11-26T11:08:33.271697Z",
     "shell.execute_reply": "2024-11-26T11:08:33.270566Z",
     "shell.execute_reply.started": "2024-11-26T11:08:32.648258Z"
    }
   },
   "outputs": [
    {
     "name": "stdout",
     "output_type": "stream",
     "text": [
      "len(df):                 920925\n",
      "'dt' border values:      ('2009-05-31', '2020-08-13')\n",
      "len(columns):            136\n",
      "count target==1:         7156\n",
      "last dt, when target==1: 2020-08-13\n",
      "\n",
      "features_dict:\n"
     ]
    },
    {
     "data": {
      "text/plain": [
       "{0: [0, 1, 3, 5, 7, 10], 3: [0, 1, 3, 5, 7, 10], 5: [0, 1, 3, 5, 7, 10]}"
      ]
     },
     "metadata": {},
     "output_type": "display_data"
    }
   ],
   "source": [
    "print_some_stats(df_magn_6_aft)"
   ]
  },
  {
   "cell_type": "code",
   "execution_count": 75,
   "metadata": {
    "execution": {
     "iopub.execute_input": "2024-11-26T11:11:59.461519Z",
     "iopub.status.busy": "2024-11-26T11:11:59.461353Z",
     "iopub.status.idle": "2024-11-26T11:11:59.466320Z",
     "shell.execute_reply": "2024-11-26T11:11:59.465742Z",
     "shell.execute_reply.started": "2024-11-26T11:11:59.461507Z"
    }
   },
   "outputs": [
    {
     "data": {
      "text/plain": [
       "(0.0014325791206076207, 0.007770448190677851)"
      ]
     },
     "execution_count": 75,
     "metadata": {},
     "output_type": "execute_result"
    }
   ],
   "source": [
    "7_909 / 5520812, 7156 / 920925"
   ]
  },
  {
   "cell_type": "code",
   "execution_count": 68,
   "metadata": {
    "execution": {
     "iopub.execute_input": "2024-11-26T11:10:02.173969Z",
     "iopub.status.busy": "2024-11-26T11:10:02.173423Z",
     "iopub.status.idle": "2024-11-26T11:10:04.617837Z",
     "shell.execute_reply": "2024-11-26T11:10:04.615829Z",
     "shell.execute_reply.started": "2024-11-26T11:10:02.173923Z"
    }
   },
   "outputs": [],
   "source": [
    "df_magn_6_aft.to_parquet(out_file, index=False)"
   ]
  },
  {
   "cell_type": "markdown",
   "metadata": {},
   "source": [
    "### test"
   ]
  },
  {
   "cell_type": "code",
   "execution_count": 90,
   "metadata": {
    "execution": {
     "iopub.execute_input": "2024-11-26T13:38:23.790075Z",
     "iopub.status.busy": "2024-11-26T13:38:23.789443Z",
     "iopub.status.idle": "2024-11-26T13:38:23.801034Z",
     "shell.execute_reply": "2024-11-26T13:38:23.799244Z",
     "shell.execute_reply.started": "2024-11-26T13:38:23.790022Z"
    }
   },
   "outputs": [],
   "source": [
    "dataset_type = \"magn_6_aft_test\"\n",
    "out_file = f\"data/dataset/{dataset_type}_trs6.0.parquet\"\n",
    "feature_set_paths = [x for x in os.listdir(feature_dir) if dataset_type in x and \"trs6\" in x]"
   ]
  },
  {
   "cell_type": "code",
   "execution_count": 91,
   "metadata": {
    "execution": {
     "iopub.execute_input": "2024-11-26T13:38:24.534329Z",
     "iopub.status.busy": "2024-11-26T13:38:24.533792Z",
     "iopub.status.idle": "2024-11-26T13:38:24.545232Z",
     "shell.execute_reply": "2024-11-26T13:38:24.543744Z",
     "shell.execute_reply.started": "2024-11-26T13:38:24.534282Z"
    }
   },
   "outputs": [
    {
     "data": {
      "text/plain": [
       "['magn_6_aft_test_rad0_3_5_depth60_90_180_365_1095_1825_2555_3650_trs6.0.csv']"
      ]
     },
     "execution_count": 91,
     "metadata": {},
     "output_type": "execute_result"
    }
   ],
   "source": [
    "feature_set_paths"
   ]
  },
  {
   "cell_type": "code",
   "execution_count": 92,
   "metadata": {
    "execution": {
     "iopub.execute_input": "2024-11-26T13:38:26.735485Z",
     "iopub.status.busy": "2024-11-26T13:38:26.734955Z",
     "iopub.status.idle": "2024-11-26T13:38:28.695195Z",
     "shell.execute_reply": "2024-11-26T13:38:28.694071Z",
     "shell.execute_reply.started": "2024-11-26T13:38:26.735440Z"
    }
   },
   "outputs": [
    {
     "name": "stdout",
     "output_type": "stream",
     "text": [
      "('2020-10-02', '2023-05-09') magn_6_aft_test_rad0_3_5_depth60_90_180_365_1095_1825_2555_3650_trs6.0.csv\n"
     ]
    }
   ],
   "source": [
    "border_values_for_list(feature_set_paths)"
   ]
  },
  {
   "cell_type": "code",
   "execution_count": 93,
   "metadata": {
    "execution": {
     "iopub.execute_input": "2024-11-26T13:38:28.696168Z",
     "iopub.status.busy": "2024-11-26T13:38:28.696027Z",
     "iopub.status.idle": "2024-11-26T13:38:29.933206Z",
     "shell.execute_reply": "2024-11-26T13:38:29.932028Z",
     "shell.execute_reply.started": "2024-11-26T13:38:28.696154Z"
    }
   },
   "outputs": [
    {
     "name": "stderr",
     "output_type": "stream",
     "text": [
      "100%|██████████| 1/1 [00:01<00:00,  1.21s/it]\n"
     ]
    }
   ],
   "source": [
    "df_magn_6_aft = join_feature_files(feature_set_paths, feature_dir)"
   ]
  },
  {
   "cell_type": "code",
   "execution_count": 94,
   "metadata": {
    "execution": {
     "iopub.execute_input": "2024-11-26T13:38:29.934412Z",
     "iopub.status.busy": "2024-11-26T13:38:29.934259Z",
     "iopub.status.idle": "2024-11-26T13:38:29.941700Z",
     "shell.execute_reply": "2024-11-26T13:38:29.940671Z",
     "shell.execute_reply.started": "2024-11-26T13:38:29.934400Z"
    }
   },
   "outputs": [
    {
     "data": {
      "text/plain": [
       "730"
      ]
     },
     "execution_count": 94,
     "metadata": {},
     "output_type": "execute_result"
    }
   ],
   "source": [
    "df_magn_6_aft[\"target\"].sum()"
   ]
  },
  {
   "cell_type": "code",
   "execution_count": 95,
   "metadata": {
    "execution": {
     "iopub.execute_input": "2024-11-26T13:38:34.654006Z",
     "iopub.status.busy": "2024-11-26T13:38:34.653442Z",
     "iopub.status.idle": "2024-11-26T13:38:58.576073Z",
     "shell.execute_reply": "2024-11-26T13:38:58.574665Z",
     "shell.execute_reply.started": "2024-11-26T13:38:34.653958Z"
    }
   },
   "outputs": [],
   "source": [
    "df_magn_6_aft = add_time_cols(df_magn_6_aft)"
   ]
  },
  {
   "cell_type": "code",
   "execution_count": 96,
   "metadata": {
    "execution": {
     "iopub.execute_input": "2024-11-26T13:38:58.577427Z",
     "iopub.status.busy": "2024-11-26T13:38:58.577284Z",
     "iopub.status.idle": "2024-11-26T13:38:58.690999Z",
     "shell.execute_reply": "2024-11-26T13:38:58.689916Z",
     "shell.execute_reply.started": "2024-11-26T13:38:58.577415Z"
    }
   },
   "outputs": [
    {
     "name": "stdout",
     "output_type": "stream",
     "text": [
      "len(df):                 213750\n",
      "'dt' border values:      ('2020-10-02', '2023-05-09')\n",
      "len(columns):            136\n",
      "count target==1:         730\n",
      "last dt, when target==1: 2023-05-09\n",
      "\n",
      "features_dict:\n"
     ]
    },
    {
     "data": {
      "text/plain": [
       "{0: [0, 1, 3, 5, 7, 10], 3: [0, 1, 3, 5, 7, 10], 5: [0, 1, 3, 5, 7, 10]}"
      ]
     },
     "metadata": {},
     "output_type": "display_data"
    }
   ],
   "source": [
    "print_some_stats(df_magn_6_aft)"
   ]
  },
  {
   "cell_type": "code",
   "execution_count": 97,
   "metadata": {
    "execution": {
     "iopub.execute_input": "2024-11-26T13:38:58.691533Z",
     "iopub.status.busy": "2024-11-26T13:38:58.691410Z",
     "iopub.status.idle": "2024-11-26T13:38:59.242911Z",
     "shell.execute_reply": "2024-11-26T13:38:59.241651Z",
     "shell.execute_reply.started": "2024-11-26T13:38:58.691522Z"
    }
   },
   "outputs": [],
   "source": [
    "df_magn_6_aft.to_parquet(out_file, index=False)"
   ]
  },
  {
   "cell_type": "markdown",
   "metadata": {},
   "source": [
    "## withoutaft magn>6.0"
   ]
  },
  {
   "cell_type": "markdown",
   "metadata": {},
   "source": [
    "### train"
   ]
  },
  {
   "cell_type": "code",
   "execution_count": 69,
   "metadata": {
    "execution": {
     "iopub.execute_input": "2024-11-26T11:10:19.535862Z",
     "iopub.status.busy": "2024-11-26T11:10:19.535222Z",
     "iopub.status.idle": "2024-11-26T11:10:19.546742Z",
     "shell.execute_reply": "2024-11-26T11:10:19.544903Z",
     "shell.execute_reply.started": "2024-11-26T11:10:19.535811Z"
    }
   },
   "outputs": [],
   "source": [
    "dataset_type = \"magn_6_withoutaft\"\n",
    "out_file = f\"data/dataset/{dataset_type}_trs6.0.parquet\"\n",
    "feature_set_paths = [x for x in os.listdir(feature_dir) if dataset_type in x and \"trs6\" in x and \"test\" not in x]"
   ]
  },
  {
   "cell_type": "code",
   "execution_count": 70,
   "metadata": {
    "execution": {
     "iopub.execute_input": "2024-11-26T11:10:20.057978Z",
     "iopub.status.busy": "2024-11-26T11:10:20.057435Z",
     "iopub.status.idle": "2024-11-26T11:10:20.068713Z",
     "shell.execute_reply": "2024-11-26T11:10:20.066973Z",
     "shell.execute_reply.started": "2024-11-26T11:10:20.057930Z"
    }
   },
   "outputs": [
    {
     "data": {
      "text/plain": [
       "['magn_6_withoutaft_rad0_depth60_90_180_365_1095_1825_2555_3650_trs6.0.csv',\n",
       " 'magn_6_withoutaft_rad5_depth60_90_180_365_1095_1825_2555_3650_trs6.0.csv',\n",
       " 'magn_6_withoutaft_rad3_depth60_90_180_365_1095_1825_2555_3650_trs6.0.csv']"
      ]
     },
     "execution_count": 70,
     "metadata": {},
     "output_type": "execute_result"
    }
   ],
   "source": [
    "feature_set_paths"
   ]
  },
  {
   "cell_type": "code",
   "execution_count": 71,
   "metadata": {
    "execution": {
     "iopub.execute_input": "2024-11-26T11:10:28.033742Z",
     "iopub.status.busy": "2024-11-26T11:10:28.033202Z",
     "iopub.status.idle": "2024-11-26T11:10:31.899359Z",
     "shell.execute_reply": "2024-11-26T11:10:31.898574Z",
     "shell.execute_reply.started": "2024-11-26T11:10:28.033696Z"
    }
   },
   "outputs": [
    {
     "name": "stdout",
     "output_type": "stream",
     "text": [
      "('2009-05-31', '2020-08-13') magn_6_withoutaft_rad0_depth60_90_180_365_1095_1825_2555_3650_trs6.0.csv\n",
      "('2009-05-31', '2020-08-13') magn_6_withoutaft_rad5_depth60_90_180_365_1095_1825_2555_3650_trs6.0.csv\n",
      "('2009-05-31', '2020-08-13') magn_6_withoutaft_rad3_depth60_90_180_365_1095_1825_2555_3650_trs6.0.csv\n"
     ]
    }
   ],
   "source": [
    "border_values_for_list(feature_set_paths)"
   ]
  },
  {
   "cell_type": "code",
   "execution_count": 72,
   "metadata": {
    "execution": {
     "iopub.execute_input": "2024-11-26T11:11:01.840378Z",
     "iopub.status.busy": "2024-11-26T11:11:01.839716Z",
     "iopub.status.idle": "2024-11-26T11:11:06.313899Z",
     "shell.execute_reply": "2024-11-26T11:11:06.313093Z",
     "shell.execute_reply.started": "2024-11-26T11:11:01.840324Z"
    }
   },
   "outputs": [
    {
     "name": "stderr",
     "output_type": "stream",
     "text": [
      "100%|██████████| 3/3 [00:04<00:00,  1.34s/it]\n"
     ]
    }
   ],
   "source": [
    "df_magn_6_withoutaft = join_feature_files(feature_set_paths, feature_dir)"
   ]
  },
  {
   "cell_type": "code",
   "execution_count": 73,
   "metadata": {
    "execution": {
     "iopub.execute_input": "2024-11-26T11:11:09.690791Z",
     "iopub.status.busy": "2024-11-26T11:11:09.690000Z",
     "iopub.status.idle": "2024-11-26T11:11:09.701759Z",
     "shell.execute_reply": "2024-11-26T11:11:09.700769Z",
     "shell.execute_reply.started": "2024-11-26T11:11:09.690738Z"
    }
   },
   "outputs": [
    {
     "data": {
      "text/plain": [
       "2600"
      ]
     },
     "execution_count": 73,
     "metadata": {},
     "output_type": "execute_result"
    }
   ],
   "source": [
    "df_magn_6_withoutaft[\"target\"].sum()"
   ]
  },
  {
   "cell_type": "code",
   "execution_count": 74,
   "metadata": {
    "execution": {
     "iopub.execute_input": "2024-11-26T11:11:12.920567Z",
     "iopub.status.busy": "2024-11-26T11:11:12.919212Z",
     "iopub.status.idle": "2024-11-26T11:11:59.460227Z",
     "shell.execute_reply": "2024-11-26T11:11:59.459034Z",
     "shell.execute_reply.started": "2024-11-26T11:11:12.920490Z"
    }
   },
   "outputs": [],
   "source": [
    "df_magn_6_withoutaft = add_time_cols(df_magn_6_withoutaft)"
   ]
  },
  {
   "cell_type": "code",
   "execution_count": 76,
   "metadata": {
    "execution": {
     "iopub.execute_input": "2024-11-26T11:12:10.544085Z",
     "iopub.status.busy": "2024-11-26T11:12:10.543555Z",
     "iopub.status.idle": "2024-11-26T11:12:10.853494Z",
     "shell.execute_reply": "2024-11-26T11:12:10.852331Z",
     "shell.execute_reply.started": "2024-11-26T11:12:10.544040Z"
    }
   },
   "outputs": [
    {
     "name": "stdout",
     "output_type": "stream",
     "text": [
      "len(df):                 417486\n",
      "'dt' border values:      ('2009-05-31', '2020-08-13')\n",
      "len(columns):            136\n",
      "count target==1:         2600\n",
      "last dt, when target==1: 2020-06-14\n",
      "\n",
      "features_dict:\n"
     ]
    },
    {
     "data": {
      "text/plain": [
       "{0: [0, 1, 3, 5, 7, 10], 3: [0, 1, 3, 5, 7, 10], 5: [0, 1, 3, 5, 7, 10]}"
      ]
     },
     "metadata": {},
     "output_type": "display_data"
    }
   ],
   "source": [
    "print_some_stats(df_magn_6_withoutaft)"
   ]
  },
  {
   "cell_type": "code",
   "execution_count": 77,
   "metadata": {
    "execution": {
     "iopub.execute_input": "2024-11-26T11:12:18.734628Z",
     "iopub.status.busy": "2024-11-26T11:12:18.734094Z",
     "iopub.status.idle": "2024-11-26T11:12:18.745148Z",
     "shell.execute_reply": "2024-11-26T11:12:18.743280Z",
     "shell.execute_reply.started": "2024-11-26T11:12:18.734580Z"
    }
   },
   "outputs": [
    {
     "data": {
      "text/plain": [
       "(0.0013181547357089176, 0.006227753745035761)"
      ]
     },
     "execution_count": 77,
     "metadata": {},
     "output_type": "execute_result"
    }
   ],
   "source": [
    "3115 / 2363152, 2600 / 417486"
   ]
  },
  {
   "cell_type": "code",
   "execution_count": 78,
   "metadata": {
    "execution": {
     "iopub.execute_input": "2024-11-26T11:12:27.983804Z",
     "iopub.status.busy": "2024-11-26T11:12:27.983273Z",
     "iopub.status.idle": "2024-11-26T11:12:28.941767Z",
     "shell.execute_reply": "2024-11-26T11:12:28.940126Z",
     "shell.execute_reply.started": "2024-11-26T11:12:27.983757Z"
    }
   },
   "outputs": [],
   "source": [
    "df_magn_6_withoutaft.to_parquet(out_file, index=False)"
   ]
  },
  {
   "cell_type": "markdown",
   "metadata": {},
   "source": [
    "### test"
   ]
  },
  {
   "cell_type": "code",
   "execution_count": 98,
   "metadata": {
    "execution": {
     "iopub.execute_input": "2024-11-26T13:39:26.393287Z",
     "iopub.status.busy": "2024-11-26T13:39:26.392707Z",
     "iopub.status.idle": "2024-11-26T13:39:26.402588Z",
     "shell.execute_reply": "2024-11-26T13:39:26.400792Z",
     "shell.execute_reply.started": "2024-11-26T13:39:26.393239Z"
    }
   },
   "outputs": [],
   "source": [
    "dataset_type = \"magn_6_withoutaft_test\"\n",
    "out_file = f\"data/dataset/{dataset_type}_trs6.0.parquet\"\n",
    "feature_set_paths = [x for x in os.listdir(feature_dir) if dataset_type in x and \"trs6\" in x]"
   ]
  },
  {
   "cell_type": "code",
   "execution_count": 99,
   "metadata": {
    "execution": {
     "iopub.execute_input": "2024-11-26T13:39:28.990416Z",
     "iopub.status.busy": "2024-11-26T13:39:28.989886Z",
     "iopub.status.idle": "2024-11-26T13:39:29.000499Z",
     "shell.execute_reply": "2024-11-26T13:39:28.998730Z",
     "shell.execute_reply.started": "2024-11-26T13:39:28.990369Z"
    }
   },
   "outputs": [
    {
     "data": {
      "text/plain": [
       "['magn_6_withoutaft_test_rad0_3_5_depth60_90_180_365_1095_1825_2555_3650_trs6.0.csv']"
      ]
     },
     "execution_count": 99,
     "metadata": {},
     "output_type": "execute_result"
    }
   ],
   "source": [
    "feature_set_paths"
   ]
  },
  {
   "cell_type": "code",
   "execution_count": 100,
   "metadata": {
    "execution": {
     "iopub.execute_input": "2024-11-26T13:39:29.809195Z",
     "iopub.status.busy": "2024-11-26T13:39:29.808660Z",
     "iopub.status.idle": "2024-11-26T13:39:30.640583Z",
     "shell.execute_reply": "2024-11-26T13:39:30.639330Z",
     "shell.execute_reply.started": "2024-11-26T13:39:29.809147Z"
    }
   },
   "outputs": [
    {
     "name": "stdout",
     "output_type": "stream",
     "text": [
      "('2020-10-02', '2023-05-09') magn_6_withoutaft_test_rad0_3_5_depth60_90_180_365_1095_1825_2555_3650_trs6.0.csv\n"
     ]
    }
   ],
   "source": [
    "border_values_for_list(feature_set_paths)"
   ]
  },
  {
   "cell_type": "code",
   "execution_count": 101,
   "metadata": {
    "execution": {
     "iopub.execute_input": "2024-11-26T13:39:30.747558Z",
     "iopub.status.busy": "2024-11-26T13:39:30.747020Z",
     "iopub.status.idle": "2024-11-26T13:39:31.477551Z",
     "shell.execute_reply": "2024-11-26T13:39:31.476556Z",
     "shell.execute_reply.started": "2024-11-26T13:39:30.747510Z"
    }
   },
   "outputs": [
    {
     "name": "stderr",
     "output_type": "stream",
     "text": [
      "100%|██████████| 1/1 [00:00<00:00,  1.42it/s]\n"
     ]
    }
   ],
   "source": [
    "df_magn_6_withoutaft = join_feature_files(feature_set_paths, feature_dir)"
   ]
  },
  {
   "cell_type": "code",
   "execution_count": 102,
   "metadata": {
    "execution": {
     "iopub.execute_input": "2024-11-26T13:39:31.478436Z",
     "iopub.status.busy": "2024-11-26T13:39:31.478280Z",
     "iopub.status.idle": "2024-11-26T13:39:31.484968Z",
     "shell.execute_reply": "2024-11-26T13:39:31.484189Z",
     "shell.execute_reply.started": "2024-11-26T13:39:31.478422Z"
    }
   },
   "outputs": [
    {
     "data": {
      "text/plain": [
       "513"
      ]
     },
     "execution_count": 102,
     "metadata": {},
     "output_type": "execute_result"
    }
   ],
   "source": [
    "df_magn_6_withoutaft[\"target\"].sum()"
   ]
  },
  {
   "cell_type": "code",
   "execution_count": 103,
   "metadata": {
    "execution": {
     "iopub.execute_input": "2024-11-26T13:39:32.319238Z",
     "iopub.status.busy": "2024-11-26T13:39:32.318713Z",
     "iopub.status.idle": "2024-11-26T13:39:43.469228Z",
     "shell.execute_reply": "2024-11-26T13:39:43.468090Z",
     "shell.execute_reply.started": "2024-11-26T13:39:32.319192Z"
    }
   },
   "outputs": [],
   "source": [
    "df_magn_6_withoutaft = add_time_cols(df_magn_6_withoutaft)"
   ]
  },
  {
   "cell_type": "code",
   "execution_count": 104,
   "metadata": {
    "execution": {
     "iopub.execute_input": "2024-11-26T13:39:43.470390Z",
     "iopub.status.busy": "2024-11-26T13:39:43.470244Z",
     "iopub.status.idle": "2024-11-26T13:39:43.523995Z",
     "shell.execute_reply": "2024-11-26T13:39:43.523319Z",
     "shell.execute_reply.started": "2024-11-26T13:39:43.470377Z"
    }
   },
   "outputs": [
    {
     "name": "stdout",
     "output_type": "stream",
     "text": [
      "len(df):                 96900\n",
      "'dt' border values:      ('2020-10-02', '2023-05-09')\n",
      "len(columns):            136\n",
      "count target==1:         513\n",
      "last dt, when target==1: 2023-05-09\n",
      "\n",
      "features_dict:\n"
     ]
    },
    {
     "data": {
      "text/plain": [
       "{0: [0, 1, 3, 5, 7, 10], 3: [0, 1, 3, 5, 7, 10], 5: [0, 1, 3, 5, 7, 10]}"
      ]
     },
     "metadata": {},
     "output_type": "display_data"
    }
   ],
   "source": [
    "print_some_stats(df_magn_6_withoutaft)"
   ]
  },
  {
   "cell_type": "code",
   "execution_count": 105,
   "metadata": {
    "execution": {
     "iopub.execute_input": "2024-11-26T13:39:43.524643Z",
     "iopub.status.busy": "2024-11-26T13:39:43.524526Z",
     "iopub.status.idle": "2024-11-26T13:39:43.820657Z",
     "shell.execute_reply": "2024-11-26T13:39:43.819379Z",
     "shell.execute_reply.started": "2024-11-26T13:39:43.524632Z"
    }
   },
   "outputs": [],
   "source": [
    "df_magn_6_withoutaft.to_parquet(out_file, index=False)"
   ]
  },
  {
   "cell_type": "code",
   "execution_count": null,
   "metadata": {},
   "outputs": [],
   "source": []
  }
 ],
 "metadata": {
  "kernelspec": {
   "display_name": "smartdevds10",
   "language": "python",
   "name": "smartdevds10"
  },
  "language_info": {
   "codemirror_mode": {
    "name": "ipython",
    "version": 3
   },
   "file_extension": ".py",
   "mimetype": "text/x-python",
   "name": "python",
   "nbconvert_exporter": "python",
   "pygments_lexer": "ipython3",
   "version": "3.12.4"
  }
 },
 "nbformat": 4,
 "nbformat_minor": 4
}
